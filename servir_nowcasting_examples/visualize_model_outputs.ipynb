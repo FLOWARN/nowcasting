{
 "cells": [
  {
   "cell_type": "markdown",
   "metadata": {},
   "source": [
    "# Visualize Model Outputs\n",
    "\n",
    "This notebook goes over how to visualize the outputs for nowcasts\n",
    "\n",
    "Author: Akshay Aravamudan (aaravamudan2014@my.fit.edu)\n",
    "\n",
    "Last Edited: Jan 21, 2025"
   ]
  },
  {
   "cell_type": "code",
   "execution_count": 2,
   "metadata": {},
   "outputs": [
    {
     "ename": "FileNotFoundError",
     "evalue": "[Errno 2] No such file or directory: 'results/convlstm_1_outputs.npy'",
     "output_type": "error",
     "traceback": [
      "\u001b[0;31m---------------------------------------------------------------------------\u001b[0m",
      "\u001b[0;31mFileNotFoundError\u001b[0m                         Traceback (most recent call last)",
      "Cell \u001b[0;32mIn[2], line 5\u001b[0m\n\u001b[1;32m      1\u001b[0m \u001b[38;5;28;01mimport\u001b[39;00m \u001b[38;5;21;01mnumpy\u001b[39;00m \u001b[38;5;28;01mas\u001b[39;00m \u001b[38;5;21;01mnp\u001b[39;00m\n\u001b[1;32m      3\u001b[0m event_name \u001b[38;5;241m=\u001b[39m \u001b[38;5;241m1\u001b[39m\n\u001b[0;32m----> 5\u001b[0m convlstm_output \u001b[38;5;241m=\u001b[39m \u001b[43mnp\u001b[49m\u001b[38;5;241;43m.\u001b[39;49m\u001b[43mload\u001b[49m\u001b[43m(\u001b[49m\u001b[38;5;124;43m'\u001b[39;49m\u001b[38;5;124;43mresults/convlstm_\u001b[39;49m\u001b[38;5;124;43m'\u001b[39;49m\u001b[38;5;241;43m+\u001b[39;49m\u001b[38;5;28;43mstr\u001b[39;49m\u001b[43m(\u001b[49m\u001b[43mevent_name\u001b[49m\u001b[43m)\u001b[49m\u001b[38;5;241;43m+\u001b[39;49m\u001b[38;5;124;43m'\u001b[39;49m\u001b[38;5;124;43m_outputs.npy\u001b[39;49m\u001b[38;5;124;43m'\u001b[39;49m\u001b[43m)\u001b[49m\n\u001b[1;32m      6\u001b[0m steps_output \u001b[38;5;241m=\u001b[39m np\u001b[38;5;241m.\u001b[39mload(\u001b[38;5;124m'\u001b[39m\u001b[38;5;124mresults/steps_\u001b[39m\u001b[38;5;124m'\u001b[39m\u001b[38;5;241m+\u001b[39m\u001b[38;5;28mstr\u001b[39m(event_name)\u001b[38;5;241m+\u001b[39m\u001b[38;5;124m'\u001b[39m\u001b[38;5;124m_outputs.npy\u001b[39m\u001b[38;5;124m'\u001b[39m)\n\u001b[1;32m      7\u001b[0m lagrangian_output \u001b[38;5;241m=\u001b[39m np\u001b[38;5;241m.\u001b[39mload(\u001b[38;5;124m'\u001b[39m\u001b[38;5;124mresults/lagrangian_\u001b[39m\u001b[38;5;124m'\u001b[39m\u001b[38;5;241m+\u001b[39m\u001b[38;5;28mstr\u001b[39m(event_name)\u001b[38;5;241m+\u001b[39m\u001b[38;5;124m'\u001b[39m\u001b[38;5;124m_outputs.npy\u001b[39m\u001b[38;5;124m'\u001b[39m)\n",
      "File \u001b[0;32m~/miniconda3/envs/tito_env/lib/python3.12/site-packages/numpy/lib/_npyio_impl.py:459\u001b[0m, in \u001b[0;36mload\u001b[0;34m(file, mmap_mode, allow_pickle, fix_imports, encoding, max_header_size)\u001b[0m\n\u001b[1;32m    457\u001b[0m     own_fid \u001b[38;5;241m=\u001b[39m \u001b[38;5;28;01mFalse\u001b[39;00m\n\u001b[1;32m    458\u001b[0m \u001b[38;5;28;01melse\u001b[39;00m:\n\u001b[0;32m--> 459\u001b[0m     fid \u001b[38;5;241m=\u001b[39m stack\u001b[38;5;241m.\u001b[39menter_context(\u001b[38;5;28;43mopen\u001b[39;49m\u001b[43m(\u001b[49m\u001b[43mos\u001b[49m\u001b[38;5;241;43m.\u001b[39;49m\u001b[43mfspath\u001b[49m\u001b[43m(\u001b[49m\u001b[43mfile\u001b[49m\u001b[43m)\u001b[49m\u001b[43m,\u001b[49m\u001b[43m \u001b[49m\u001b[38;5;124;43m\"\u001b[39;49m\u001b[38;5;124;43mrb\u001b[39;49m\u001b[38;5;124;43m\"\u001b[39;49m\u001b[43m)\u001b[49m)\n\u001b[1;32m    460\u001b[0m     own_fid \u001b[38;5;241m=\u001b[39m \u001b[38;5;28;01mTrue\u001b[39;00m\n\u001b[1;32m    462\u001b[0m \u001b[38;5;66;03m# Code to distinguish from NumPy binary files and pickles.\u001b[39;00m\n",
      "\u001b[0;31mFileNotFoundError\u001b[0m: [Errno 2] No such file or directory: 'results/convlstm_1_outputs.npy'"
     ]
    }
   ],
   "source": [
    "import numpy as np\n",
    "\n",
    "event_name = 1\n",
    "\n",
    "convlstm_output = np.load('results/convlstm_'+str(event_name)+'_outputs.npy')\n",
    "steps_output = np.load('results/steps_'+str(event_name)+'_outputs.npy')\n",
    "lagrangian_output = np.load('results/lagrangian_'+str(event_name)+'_outputs.npy')\n",
    "naive_output = np.load('results/naive_'+str(event_name)+'_outputs.npy')"
   ]
  },
  {
   "cell_type": "markdown",
   "metadata": {},
   "source": [
    "## Generate GIFs"
   ]
  },
  {
   "cell_type": "code",
   "execution_count": 1,
   "metadata": {},
   "outputs": [
    {
     "name": "stdout",
     "output_type": "stream",
     "text": [
      "Pysteps configuration file found at: /volume/NFS/aa3328/miniconda3/envs/tito_env/lib/python3.12/site-packages/pysteps/pystepsrc\n",
      "\n",
      "original shape (49, 360, 516)\n",
      "Precipitation Dataset input shape:  (26, 12, 1, 360, 516)\n",
      "Precipitation Dataset output shape:  (26, 12, 1, 360, 516)\n"
     ]
    },
    {
     "ename": "NameError",
     "evalue": "name 'convlstm_output' is not defined",
     "output_type": "error",
     "traceback": [
      "\u001b[0;31m---------------------------------------------------------------------------\u001b[0m",
      "\u001b[0;31mNameError\u001b[0m                                 Traceback (most recent call last)",
      "Cell \u001b[0;32mIn[1], line 31\u001b[0m\n\u001b[1;32m     28\u001b[0m timestamps_obs \u001b[38;5;241m=\u001b[39m data_provider\u001b[38;5;241m.\u001b[39mtest_dataset\u001b[38;5;241m.\u001b[39mget_output_timestamps()[prediction_timestep]\n\u001b[1;32m     29\u001b[0m gt_output \u001b[38;5;241m=\u001b[39m data_provider\u001b[38;5;241m.\u001b[39mtest_dataset\u001b[38;5;241m.\u001b[39mget_output_precipitation()\n\u001b[0;32m---> 31\u001b[0m create_precipitation_gif_multiple_comparison([gt_output[prediction_timestep], \u001b[43mconvlstm_output\u001b[49m[prediction_timestep], steps_output[prediction_timestep],\n\u001b[1;32m     32\u001b[0m                                               lagrangian_output[prediction_timestep], naive_output[prediction_timestep]], \n\u001b[1;32m     33\u001b[0m                                              labels \u001b[38;5;241m=\u001b[39m [\u001b[38;5;124m'\u001b[39m\u001b[38;5;124mIMERG\u001b[39m\u001b[38;5;124m'\u001b[39m, \u001b[38;5;124m'\u001b[39m\u001b[38;5;124mConvLSTM\u001b[39m\u001b[38;5;124m'\u001b[39m, \u001b[38;5;124m'\u001b[39m\u001b[38;5;124mPySteps\u001b[39m\u001b[38;5;124m'\u001b[39m, \u001b[38;5;124m'\u001b[39m\u001b[38;5;124mLagrangian Persistence\u001b[39m\u001b[38;5;124m'\u001b[39m, \u001b[38;5;124m'\u001b[39m\u001b[38;5;124mNaive Persistence\u001b[39m\u001b[38;5;124m'\u001b[39m],\n\u001b[1;32m     34\u001b[0m                                              timestamps_obs \u001b[38;5;241m=\u001b[39m timestamps_obs, \n\u001b[1;32m     35\u001b[0m                                              timestep_min \u001b[38;5;241m=\u001b[39m \u001b[38;5;241m30\u001b[39m, \n\u001b[1;32m     36\u001b[0m                                              geodata \u001b[38;5;241m=\u001b[39m geodata_dict, \n\u001b[1;32m     37\u001b[0m                                              path_outputs \u001b[38;5;241m=\u001b[39m \u001b[38;5;124m'\u001b[39m\u001b[38;5;124mresults/\u001b[39m\u001b[38;5;124m'\u001b[39m, \n\u001b[1;32m     38\u001b[0m                                              title\u001b[38;5;241m=\u001b[39mevent_id \u001b[38;5;241m+\u001b[39m\u001b[38;5;124m'\u001b[39m\u001b[38;5;124m_\u001b[39m\u001b[38;5;124m'\u001b[39m\u001b[38;5;241m+\u001b[39m \u001b[38;5;28mstr\u001b[39m(prediction_timestep), \n\u001b[1;32m     39\u001b[0m                                              gif_dur \u001b[38;5;241m=\u001b[39m \u001b[38;5;241m200\u001b[39m)\n",
      "\u001b[0;31mNameError\u001b[0m: name 'convlstm_output' is not defined"
     ]
    }
   ],
   "source": [
    "from servir.visualizations.gif_creation import create_precipitation_gif_multiple_comparison\n",
    "import json\n",
    "from servir.core.data_provider import IMERGDataModule\n",
    "\n",
    "prediction_timestep = 1\n",
    "\n",
    "event_id = 1\n",
    "h5_dataset_location = '../data/events/'+str(event_id)+'.h5'\n",
    "ir_h5_dataset_location = None\n",
    "metadata_location = '../data/events/'+str(event_id)+'/metadata.json'\n",
    "dataset_type = 'wa'\n",
    "data_provider =  IMERGDataModule(\n",
    "        forecast_steps = 12,\n",
    "        history_steps = 12,\n",
    "        imerg_filename = h5_dataset_location,\n",
    "        ir_filename = ir_h5_dataset_location,\n",
    "        batch_size = 32,\n",
    "        image_shape = (360, 516),\n",
    "        normalize_data=False,\n",
    "        dataset = dataset_type)\n",
    "\n",
    "data_loader = data_provider.test_dataloader()\n",
    "\n",
    "with open(metadata_location) as jsonfile:\n",
    "    geodata_dict = json.loads(jsonfile.read())\n",
    "\n",
    "\n",
    "timestamps_obs = data_provider.test_dataset.get_output_timestamps()[prediction_timestep]\n",
    "gt_output = data_provider.test_dataset.get_output_precipitation()\n",
    "\n",
    "create_precipitation_gif_multiple_comparison([gt_output[prediction_timestep], convlstm_output[prediction_timestep], steps_output[prediction_timestep],\n",
    "                                              lagrangian_output[prediction_timestep], naive_output[prediction_timestep]], \n",
    "                                             labels = ['IMERG', 'ConvLSTM', 'PySteps', 'Lagrangian Persistence', 'Naive Persistence'],\n",
    "                                             timestamps_obs = timestamps_obs, \n",
    "                                             timestep_min = 30, \n",
    "                                             geodata = geodata_dict, \n",
    "                                             path_outputs = 'results/', \n",
    "                                             title=event_id +'_'+ str(prediction_timestep), \n",
    "                                             gif_dur = 200)\n"
   ]
  }
 ],
 "metadata": {
  "kernelspec": {
   "display_name": "tito_env",
   "language": "python",
   "name": "python3"
  },
  "language_info": {
   "codemirror_mode": {
    "name": "ipython",
    "version": 3
   },
   "file_extension": ".py",
   "mimetype": "text/x-python",
   "name": "python",
   "nbconvert_exporter": "python",
   "pygments_lexer": "ipython3",
   "version": "3.12.7"
  }
 },
 "nbformat": 4,
 "nbformat_minor": 2
}
