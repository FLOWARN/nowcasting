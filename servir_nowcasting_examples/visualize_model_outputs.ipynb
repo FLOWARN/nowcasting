{
 "cells": [
  {
   "cell_type": "markdown",
   "metadata": {},
   "source": [
    "# Visualize Model Outputs\n",
    "\n",
    "This notebook goes over how to visualize the outputs for nowcasts\n",
    "\n",
    "Author: Akshay Aravamudan (aaravamudan2014@my.fit.edu)\n",
    "\n",
    "Last Edited: Jan 21, 2025"
   ]
  },
  {
   "cell_type": "code",
   "execution_count": 3,
   "metadata": {},
   "outputs": [],
   "source": [
    "import numpy as np\n",
    "\n",
    "event_name = 1\n",
    "\n",
    "convlstm_output = np.load('results/convlstm_'+str(event_name)+'_outputs.npy')\n",
    "steps_output = np.load('results/steps_'+str(event_name)+'_outputs.npy')\n",
    "lagrangian_output = np.load('results/lagrangian_'+str(event_name)+'_outputs.npy')\n",
    "naive_output = np.load('results/naive_'+str(event_name)+'_outputs.npy')"
   ]
  },
  {
   "cell_type": "markdown",
   "metadata": {},
   "source": [
    "## Generate GIFs"
   ]
  },
  {
   "cell_type": "code",
   "execution_count": null,
   "metadata": {},
   "outputs": [
    {
     "name": "stdout",
     "output_type": "stream",
     "text": [
      "original shape (49, 360, 516)\n",
      "Precipitation Dataset input shape:  (26, 12, 1, 360, 516)\n",
      "Precipitation Dataset output shape:  (26, 12, 1, 360, 516)\n"
     ]
    },
    {
     "ename": "TypeError",
     "evalue": "unsupported operand type(s) for +: 'int' and 'str'",
     "output_type": "error",
     "traceback": [
      "\u001b[0;31m---------------------------------------------------------------------------\u001b[0m",
      "\u001b[0;31mTypeError\u001b[0m                                 Traceback (most recent call last)",
      "Cell \u001b[0;32mIn[4], line 38\u001b[0m\n\u001b[1;32m     28\u001b[0m timestamps_obs \u001b[38;5;241m=\u001b[39m data_provider\u001b[38;5;241m.\u001b[39mtest_dataset\u001b[38;5;241m.\u001b[39mget_output_timestamps()[prediction_timestep]\n\u001b[1;32m     29\u001b[0m gt_output \u001b[38;5;241m=\u001b[39m data_provider\u001b[38;5;241m.\u001b[39mtest_dataset\u001b[38;5;241m.\u001b[39mget_output_precipitation()\n\u001b[1;32m     31\u001b[0m create_precipitation_gif_multiple_comparison([gt_output[prediction_timestep], convlstm_output[prediction_timestep], steps_output[prediction_timestep],\n\u001b[1;32m     32\u001b[0m                                               lagrangian_output[prediction_timestep], naive_output[prediction_timestep]], \n\u001b[1;32m     33\u001b[0m                                              labels \u001b[38;5;241m=\u001b[39m [\u001b[38;5;124m'\u001b[39m\u001b[38;5;124mIMERG\u001b[39m\u001b[38;5;124m'\u001b[39m, \u001b[38;5;124m'\u001b[39m\u001b[38;5;124mConvLSTM\u001b[39m\u001b[38;5;124m'\u001b[39m, \u001b[38;5;124m'\u001b[39m\u001b[38;5;124mPySteps\u001b[39m\u001b[38;5;124m'\u001b[39m, \u001b[38;5;124m'\u001b[39m\u001b[38;5;124mLagrangian Persistence\u001b[39m\u001b[38;5;124m'\u001b[39m, \u001b[38;5;124m'\u001b[39m\u001b[38;5;124mNaive Persistence\u001b[39m\u001b[38;5;124m'\u001b[39m],\n\u001b[1;32m     34\u001b[0m                                              timestamps_obs \u001b[38;5;241m=\u001b[39m timestamps_obs, \n\u001b[1;32m     35\u001b[0m                                              timestep_min \u001b[38;5;241m=\u001b[39m \u001b[38;5;241m30\u001b[39m, \n\u001b[1;32m     36\u001b[0m                                              geodata \u001b[38;5;241m=\u001b[39m geodata_dict, \n\u001b[1;32m     37\u001b[0m                                              path_outputs \u001b[38;5;241m=\u001b[39m \u001b[38;5;124m'\u001b[39m\u001b[38;5;124mresults/\u001b[39m\u001b[38;5;124m'\u001b[39m, \n\u001b[0;32m---> 38\u001b[0m                                              title\u001b[38;5;241m=\u001b[39m\u001b[43mevent_id\u001b[49m\u001b[43m \u001b[49m\u001b[38;5;241;43m+\u001b[39;49m\u001b[38;5;124;43m'\u001b[39;49m\u001b[38;5;124;43m_\u001b[39;49m\u001b[38;5;124;43m'\u001b[39;49m\u001b[38;5;241m+\u001b[39m \u001b[38;5;28mstr\u001b[39m(prediction_timestep), \n\u001b[1;32m     39\u001b[0m                                              gif_dur \u001b[38;5;241m=\u001b[39m \u001b[38;5;241m200\u001b[39m)\n",
      "\u001b[0;31mTypeError\u001b[0m: unsupported operand type(s) for +: 'int' and 'str'"
     ]
    }
   ],
   "source": [
    "from servir.visualizations.gif_creation import create_precipitation_gif_multiple_comparison\n",
    "import json\n",
    "from servir.core.data_provider import IMERGDataModule\n",
    "\n",
    "prediction_timestep = 1\n",
    "\n",
    "event_id = 1\n",
    "h5_dataset_location = 'data/events/'+str(event_id)+'.h5'\n",
    "ir_h5_dataset_location = None\n",
    "metadata_location = 'data/events/'+str(event_id)+'/metadata.json'\n",
    "dataset_type = 'wa'\n",
    "data_provider =  IMERGDataModule(\n",
    "        forecast_steps = 12,\n",
    "        history_steps = 12,\n",
    "        imerg_filename = h5_dataset_location,\n",
    "        ir_filename = ir_h5_dataset_location,\n",
    "        batch_size = 32,\n",
    "        image_shape = (360, 516),\n",
    "        normalize_data=False,\n",
    "        dataset = dataset_type)\n",
    "\n",
    "data_loader = data_provider.test_dataloader()\n",
    "\n",
    "with open(metadata_location) as jsonfile:\n",
    "    geodata_dict = json.loads(jsonfile.read())\n",
    "\n",
    "\n",
    "timestamps_obs = data_provider.test_dataset.get_output_timestamps()[prediction_timestep]\n",
    "gt_output = data_provider.test_dataset.get_output_precipitation()\n",
    "\n",
    "create_precipitation_gif_multiple_comparison([gt_output[prediction_timestep], convlstm_output[prediction_timestep], steps_output[prediction_timestep],\n",
    "                                              lagrangian_output[prediction_timestep], naive_output[prediction_timestep]], \n",
    "                                             labels = ['IMERG', 'ConvLSTM', 'PySteps', 'Lagrangian Persistence', 'Naive Persistence'],\n",
    "                                             timestamps_obs = timestamps_obs, \n",
    "                                             timestep_min = 30, \n",
    "                                             geodata = geodata_dict, \n",
    "                                             path_outputs = 'results/', \n",
    "                                             title=str(event_id) +'_'+ str(prediction_timestep), \n",
    "                                             gif_dur = 200)\n"
   ]
  }
 ],
 "metadata": {
  "kernelspec": {
   "display_name": "tito_env",
   "language": "python",
   "name": "python3"
  },
  "language_info": {
   "codemirror_mode": {
    "name": "ipython",
    "version": 3
   },
   "file_extension": ".py",
   "mimetype": "text/x-python",
   "name": "python",
   "nbconvert_exporter": "python",
   "pygments_lexer": "ipython3",
   "version": "3.12.7"
  }
 },
 "nbformat": 4,
 "nbformat_minor": 2
}
