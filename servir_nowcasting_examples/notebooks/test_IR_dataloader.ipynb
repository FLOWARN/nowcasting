{
 "cells": [
  {
   "cell_type": "code",
   "execution_count": 1,
   "metadata": {},
   "outputs": [
    {
     "name": "stdout",
     "output_type": "stream",
     "text": [
      "Pysteps configuration file found at: /volume/NFS/aa3328/miniconda3/envs/tito_env/lib/python3.12/site-packages/pysteps/pystepsrc\n",
      "\n"
     ]
    },
    {
     "name": "stderr",
     "output_type": "stream",
     "text": [
      "/volume/NFS/aa3328/miniconda3/envs/tito_env/lib/python3.12/site-packages/tqdm/auto.py:21: TqdmWarning: IProgress not found. Please update jupyter and ipywidgets. See https://ipywidgets.readthedocs.io/en/stable/user_install.html\n",
      "  from .autonotebook import tqdm as notebook_tqdm\n"
     ]
    }
   ],
   "source": [
    "from servir.utils.evaluation import generate_outputs\n",
    "from servir.core.data_provider import IMERGDataModule\n",
    "\n",
    "# event id for which the data was downloaded\n",
    "event_id = 'WA'\n",
    "\n",
    "# location of the h5 file that was generated after downloading the data\n",
    "h5_dataset_location = '../data/'+str(event_id)+'.h5'\n",
    "\n",
    "# as of now, we do not have IR data, so we set it None\n",
    "ir_h5_dataset_location = '../data/'+str(event_id)+'_IR.h5'\n",
    "\n",
    "# this string is used to determine the kind of dataloader we need to use\n",
    "# for processing individual events, we reccommend the user to keep this fixed\n",
    "dataset_type = 'wa_ir'"
   ]
  },
  {
   "cell_type": "code",
   "execution_count": null,
   "metadata": {},
   "outputs": [
    {
     "name": "stdout",
     "output_type": "stream",
     "text": [
      "First two IMERG times:  [b'2010-01-01 00:30:00' b'2010-01-01 01:00:00']\n",
      "Last two IMERG times:  [b'2010-02-28 23:30:00' b'2010-03-01 00:00:00']\n",
      "original shape (2832, 360, 516)\n",
      "Precipitation Dataset input shape:  (2809, 12, 1, 360, 516)\n",
      "First two IR times:  [b'2010-01-01 00:15:00' b'2010-01-01 00:30:00']\n",
      "Last two IR times  [b'2010-02-28 22:45:00' b'2010-02-28 23:00:00']\n",
      "IR original shape (5660, 360, 516)\n"
     ]
    }
   ],
   "source": [
    "data_provider =  IMERGDataModule(\n",
    "        forecast_steps = 12,\n",
    "        history_steps = 12,\n",
    "        imerg_filename = h5_dataset_location,\n",
    "        ir_filename = ir_h5_dataset_location,\n",
    "        batch_size = 32,\n",
    "        image_shape = (360, 516),\n",
    "        normalize_data=False,\n",
    "        dataset = dataset_type,\n",
    "        production_mode = True)\n",
    "\n",
    "# for now we are treating the test dataloader as the main one since we are only interested in predicting for individual events\n",
    "data_loader = data_provider.test_dataloader()"
   ]
  }
 ],
 "metadata": {
  "kernelspec": {
   "display_name": "tito_env",
   "language": "python",
   "name": "python3"
  },
  "language_info": {
   "codemirror_mode": {
    "name": "ipython",
    "version": 3
   },
   "file_extension": ".py",
   "mimetype": "text/x-python",
   "name": "python",
   "nbconvert_exporter": "python",
   "pygments_lexer": "ipython3",
   "version": "3.12.7"
  }
 },
 "nbformat": 4,
 "nbformat_minor": 2
}
