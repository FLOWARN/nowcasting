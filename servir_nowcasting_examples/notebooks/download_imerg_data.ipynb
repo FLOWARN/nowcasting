{
 "cells": [
  {
   "cell_type": "markdown",
   "metadata": {},
   "source": [
    "# Downloading IMERG data for nowcasting\n",
    "\n",
    "This notebook shows how to use the nowcasting library code in order to download IMERG events. Specifically, we provide examples for downloading individual events as well as entire datasets to be used any downstream tasks. \n",
    "\n",
    "\n",
    "Author: Akshay Aravamudan  (aaravamudan2014@my.fit.edu)\n",
    "\n",
    "Last edited: Jan 21, 2025 "
   ]
  },
  {
   "cell_type": "markdown",
   "metadata": {},
   "source": [
    "## Imports\n"
   ]
  },
  {
   "cell_type": "code",
   "execution_count": 1,
   "metadata": {},
   "outputs": [],
   "source": [
    "from servir.utils.download_data import get_event, get_gpm_files, initialize_event_folders\n",
    "from servir.utils.m_tif2h5py import tif2h5py\n",
    "\n",
    "# get path of nowcasting folder\n",
    "nowcasting_path = '/vol_efthymios/NFS07/en279/SERVIR/TITO_test3/ML/nowcasting'\n",
    "\n",
    "# create data folder if it does not exist\n",
    "from pathlib import Path\n",
    "output_file = Path(nowcasting_path + '/data/flood_events_wa.csv')\n",
    "output_file.parent.mkdir(exist_ok=True, parents=True)\n",
    "\n",
    "\n"
   ]
  },
  {
   "cell_type": "markdown",
   "metadata": {},
   "source": [
    "## Downloading specific events\n",
    "\n",
    "This example assumes that there is a csv file containing some events with the following columns\n",
    "\n",
    "1. Event ID\n",
    "2. Region in Ghana\n",
    "3. Event  Recorded Date\n",
    "4. Coordinates (optional)\n",
    "5. link (optional)\n",
    "\n",
    "For instance it could be a csv file with the following data,\n",
    "|Event ID|Region in Ghana                                                                      |Event  Recorded Date|Coordinates             |link                                                                                          |\n",
    "|--------|-------------------------------------------------------------------------------------|-------------------|------------------------|----------------------------------------------------------------------------------------------|\n",
    "|1       |Bunkpurugu                                                                           |August 30, 2013    |10°30′45.72″N 0°5′52.8″E|https://www.modernghana.com/news/486439/1/bunkpurugu-floods-one-dead-about-6000-displaced.html|\n",
    "|2       |Accra                                                                                |January 31, 2014   |5°33′N 0°12′W           |https://floodlist.com/africa/ghana-accra-hit-flash-floods                                     |\n",
    "|3       |Accra                                                                                |June 5, 2014       |5°33′N 0°12′W           |https://floodlist.com/africa/accra-ghana-floods-june-2014                                     |\n",
    "|4       |Accra                                                                                |July 10, 2014      |5°33′N 0°12′W           |https://floodlist.com/africa/1-dead-floods-jomoro-ghana                                       |\n",
    "|5       |Kumasi, Axim and Accra                                                               |June 3, 2015       |06°42′00″N 01°37′30″W   |https://floodlist.com/africa/flood-accra-ghana-fire-explosion                                 |\n",
    "\n",
    "\n"
   ]
  },
  {
   "cell_type": "markdown",
   "metadata": {},
   "source": [
    "### Obtain timestamps"
   ]
  },
  {
   "cell_type": "code",
   "execution_count": 2,
   "metadata": {},
   "outputs": [],
   "source": [
    "# let us pick a particular event to download\n",
    "\n",
    "event_id = 1\n",
    "initial_timestamp, final_timestamp = get_event(csv_filename= nowcasting_path + '/data/flood_events_wa.csv', event_id=event_id)\n"
   ]
  },
  {
   "cell_type": "markdown",
   "metadata": {},
   "source": [
    "### Set data parameters"
   ]
  },
  {
   "cell_type": "code",
   "execution_count": 3,
   "metadata": {},
   "outputs": [],
   "source": [
    "domain_location = 'WA'\n",
    "\n",
    "# Domain coordinates for WA \n",
    "xmin = -21.4\n",
    "xmax = 30.4\n",
    "ymin = -2.9\n",
    "ymax = 33.1\n",
    "\n",
    "# Domain coordinates for Ghana \n",
    "# xmin = -3.95\n",
    "# xmax = 2.35\n",
    "# ymin = 4.85\n",
    "# ymax = 11.15\n",
    "\n",
    "\n",
    "# The outputs would assume the following shape\n",
    "req_shape = (360, 518)\n",
    "\n",
    "precipBaseFolder = nowcasting_path + '/data/events/'\n",
    "\n",
    "\n",
    "#  the following cell creates folders if not already created (assuming that the preceding directories already exist)\n",
    "precipEventFolder = initialize_event_folders(precipBaseFolder, event_id=event_id)\n",
    "\n",
    "# server path for where to download IMERG data from \n",
    "ppt_server_path = 'https://jsimpsonhttps.pps.eosdis.nasa.gov/imerg/gis/early/'\n",
    "\n",
    "# email associated with accound accessing the NASA product\n",
    "# this is the authors email and is free to use by other members\n",
    "email = 'aaravamudan2014@my.fit.edu'"
   ]
  },
  {
   "cell_type": "markdown",
   "metadata": {},
   "source": [
    "### Download the data and store it in relevant format\n"
   ]
  },
  {
   "cell_type": "code",
   "execution_count": 4,
   "metadata": {},
   "outputs": [
    {
     "name": "stdout",
     "output_type": "stream",
     "text": [
      "<class 'datetime.datetime'>\n",
      "    Downloading 2022-09-19 00:30\n",
      "    Downloading 2022-09-19 01:00\n",
      "    Downloading 2022-09-19 01:30\n",
      "    Downloading 2022-09-19 02:00\n",
      "    Downloading 2022-09-19 02:30\n",
      "    Downloading 2022-09-19 03:00\n",
      "    Downloading 2022-09-19 03:30\n",
      "    Downloading 2022-09-19 04:00\n",
      "    Downloading 2022-09-19 04:30\n",
      "    Downloading 2022-09-19 05:00\n",
      "    Downloading 2022-09-19 05:30\n",
      "    Downloading 2022-09-19 06:00\n",
      "    Downloading 2022-09-19 06:30\n",
      "    Downloading 2022-09-19 07:00\n",
      "    Downloading 2022-09-19 07:30\n",
      "    Downloading 2022-09-19 08:00\n",
      "    Downloading 2022-09-19 08:30\n",
      "    Downloading 2022-09-19 09:00\n",
      "    Downloading 2022-09-19 09:30\n",
      "    Downloading 2022-09-19 10:00\n",
      "    Downloading 2022-09-19 10:30\n",
      "    Downloading 2022-09-19 11:00\n",
      "    Downloading 2022-09-19 11:30\n",
      "    Downloading 2022-09-19 12:00\n",
      "    Downloading 2022-09-19 12:30\n",
      "    Downloading 2022-09-19 13:00\n",
      "    Downloading 2022-09-19 13:30\n",
      "    Downloading 2022-09-19 14:00\n",
      "    Downloading 2022-09-19 14:30\n",
      "    Downloading 2022-09-19 15:00\n",
      "    Downloading 2022-09-19 15:30\n",
      "    Downloading 2022-09-19 16:00\n",
      "    Downloading 2022-09-19 16:30\n",
      "    Downloading 2022-09-19 17:00\n",
      "    Downloading 2022-09-19 17:30\n",
      "    Downloading 2022-09-19 18:00\n",
      "    Downloading 2022-09-19 18:30\n",
      "    Downloading 2022-09-19 19:00\n",
      "    Downloading 2022-09-19 19:30\n",
      "    Downloading 2022-09-19 20:00\n",
      "    Downloading 2022-09-19 20:30\n",
      "    Downloading 2022-09-19 21:00\n",
      "    Downloading 2022-09-19 21:30\n",
      "    Downloading 2022-09-19 22:00\n",
      "    Downloading 2022-09-19 22:30\n",
      "    Downloading 2022-09-19 23:00\n",
      "    Downloading 2022-09-19 23:30\n",
      "    Downloading 2022-09-20 00:00\n",
      "    Downloading 2022-09-20 00:30\n",
      "    Downloading 2022-09-20 01:00\n",
      "    Downloading 2022-09-20 01:30\n",
      "    Downloading 2022-09-20 02:00\n",
      "    Downloading 2022-09-20 02:30\n",
      "    Downloading 2022-09-20 03:00\n",
      "    Downloading 2022-09-20 03:30\n",
      "    Downloading 2022-09-20 04:00\n",
      "    Downloading 2022-09-20 04:30\n",
      "    Downloading 2022-09-20 05:00\n",
      "    Downloading 2022-09-20 05:30\n",
      "    Downloading 2022-09-20 06:00\n",
      "    Downloading 2022-09-20 06:30\n",
      "    Downloading 2022-09-20 07:00\n",
      "    Downloading 2022-09-20 07:30\n",
      "    Downloading 2022-09-20 08:00\n",
      "    Downloading 2022-09-20 08:30\n",
      "    Downloading 2022-09-20 09:00\n",
      "    Downloading 2022-09-20 09:30\n",
      "    Downloading 2022-09-20 10:00\n",
      "    Downloading 2022-09-20 10:30\n",
      "    Downloading 2022-09-20 11:00\n",
      "    Downloading 2022-09-20 11:30\n",
      "    Downloading 2022-09-20 12:00\n",
      "    Downloading 2022-09-20 12:30\n",
      "    Downloading 2022-09-20 13:00\n",
      "    Downloading 2022-09-20 13:30\n",
      "    Downloading 2022-09-20 14:00\n",
      "    Downloading 2022-09-20 14:30\n",
      "    Downloading 2022-09-20 15:00\n",
      "    Downloading 2022-09-20 15:30\n",
      "    Downloading 2022-09-20 16:00\n",
      "    Downloading 2022-09-20 16:30\n",
      "    Downloading 2022-09-20 17:00\n",
      "    Downloading 2022-09-20 17:30\n",
      "    Downloading 2022-09-20 18:00\n",
      "    Downloading 2022-09-20 18:30\n",
      "    Downloading 2022-09-20 19:00\n",
      "    Downloading 2022-09-20 19:30\n",
      "    Downloading 2022-09-20 20:00\n",
      "    Downloading 2022-09-20 20:30\n",
      "    Downloading 2022-09-20 21:00\n",
      "    Downloading 2022-09-20 21:30\n",
      "    Downloading 2022-09-20 22:00\n",
      "    Downloading 2022-09-20 22:30\n",
      "    Downloading 2022-09-20 23:00\n",
      "    Downloading 2022-09-20 23:30\n",
      "    Downloading 2022-09-21 00:00\n",
      "    Downloading 2022-09-21 00:30\n"
     ]
    }
   ],
   "source": [
    "# the following function will download the image and store it in `precipEventFolder`\n",
    "# note that it will ignore if the file already exists in the folder\n",
    "\n",
    "req_height, req_width = req_shape\n",
    "get_gpm_files(precipEventFolder,initial_timestamp, final_timestamp, ppt_server_path ,email, req_height, req_width)\n"
   ]
  },
  {
   "cell_type": "code",
   "execution_count": 5,
   "metadata": {},
   "outputs": [
    {
     "name": "stderr",
     "output_type": "stream",
     "text": [
      "/volume/NFS/aa3328/miniconda3/envs/tito_env/lib/python3.12/site-packages/osgeo/gdal.py:312: FutureWarning: Neither gdal.UseExceptions() nor gdal.DontUseExceptions() has been explicitly called. In GDAL 4.0, exceptions will be enabled by default.\n",
      "  warnings.warn(\n"
     ]
    }
   ],
   "source": [
    "# once the files are downloaded in the relevant folder, we need to convert it into h5 format\n",
    "# since it is the format that the library uses for processing data\n",
    "\n",
    "# this is location of the metadata folder which contains all the coordinate information that\n",
    "# will be used for visualization purposes\n",
    "meta_fname = precipEventFolder + 'metadata.json'\n",
    "\n",
    "tif2h5py(tif_directory=precipEventFolder, h5_fname=precipBaseFolder + str(event_id)+'.h5', meta_fname=meta_fname, x1=xmin, y1=ymin, x2=xmax, y2=ymax)\n"
   ]
  },
  {
   "cell_type": "code",
   "execution_count": 6,
   "metadata": {},
   "outputs": [
    {
     "name": "stdout",
     "output_type": "stream",
     "text": [
      "/vol_efthymios/NFS07/en279/SERVIR/TITO_test3/ML/nowcasting/data/events/1/metadata.json\n"
     ]
    }
   ],
   "source": [
    "print(meta_fname)"
   ]
  }
 ],
 "metadata": {
  "kernelspec": {
   "display_name": "tito_env",
   "language": "python",
   "name": "python3"
  },
  "language_info": {
   "codemirror_mode": {
    "name": "ipython",
    "version": 3
   },
   "file_extension": ".py",
   "mimetype": "text/x-python",
   "name": "python",
   "nbconvert_exporter": "python",
   "pygments_lexer": "ipython3",
   "version": "3.12.7"
  }
 },
 "nbformat": 4,
 "nbformat_minor": 2
}
