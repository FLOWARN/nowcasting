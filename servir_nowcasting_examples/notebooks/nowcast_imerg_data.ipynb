{
 "cells": [
  {
   "cell_type": "markdown",
   "metadata": {},
   "source": [
    "# Nowcasting IMERG data\n",
    "\n",
    "This notebook provide instructions on how to nowcast using the data that was previously downloaded. This notebook will cover how to \n",
    "\n",
    "1. Use the dataloader from the h5 files to produce windowed inputs\n",
    "2. Initialize config files for each nowcasting model\n",
    "3. Nowcast the generated inputs and save the outputs in a format ready to be used for downstream tasks\n",
    "\n",
    "Author: Akshay Aravamudan (aaravamudan2014@my.fit.edu)\n",
    "\n",
    "Last Edited: Jan 21, 2025"
   ]
  },
  {
   "cell_type": "markdown",
   "metadata": {},
   "source": [
    "## Imports"
   ]
  },
  {
   "cell_type": "code",
   "execution_count": 1,
   "metadata": {},
   "outputs": [
    {
     "name": "stdout",
     "output_type": "stream",
     "text": [
      "Pysteps configuration file found at: /volume/NFS/aa3328/miniconda3/envs/tito_env/lib/python3.12/site-packages/pysteps/pystepsrc\n",
      "\n"
     ]
    },
    {
     "name": "stderr",
     "output_type": "stream",
     "text": [
      "/volume/NFS/aa3328/miniconda3/envs/tito_env/lib/python3.12/site-packages/tqdm/auto.py:21: TqdmWarning: IProgress not found. Please update jupyter and ipywidgets. See https://ipywidgets.readthedocs.io/en/stable/user_install.html\n",
      "  from .autonotebook import tqdm as notebook_tqdm\n"
     ]
    }
   ],
   "source": [
    "from servir.utils.evaluation import generate_outputs\n",
    "from servir.utils.data_provider import IMERGDataModule"
   ]
  },
  {
   "cell_type": "markdown",
   "metadata": {},
   "source": [
    "## Initialize parameters"
   ]
  },
  {
   "cell_type": "code",
   "execution_count": 4,
   "metadata": {},
   "outputs": [],
   "source": [
    "# event id for which the data was downloaded\n",
    "event_id = 1\n",
    "\n",
    "# location of the h5 file that was generated after downloading the data\n",
    "h5_dataset_location = '../../data/events/'+str(event_id)+'.h5'\n",
    "\n",
    "# as of now, we do not have IR data, so we set it None\n",
    "ir_h5_dataset_location = None\n",
    "\n",
    "# this string is used to determine the kind of dataloader we need to use\n",
    "# for processing individual events, we reccommend the user to keep this fixed\n",
    "dataset_type = 'wa'"
   ]
  },
  {
   "cell_type": "markdown",
   "metadata": {},
   "source": [
    "## Initialize the dataloader"
   ]
  },
  {
   "cell_type": "code",
   "execution_count": 5,
   "metadata": {},
   "outputs": [
    {
     "name": "stdout",
     "output_type": "stream",
     "text": [
      "original shape (97, 360, 516)\n",
      "Precipitation Dataset input shape:  (78, 8, 1, 360, 516)\n",
      "Precipitation Dataset output shape:  (78, 12, 1, 360, 516)\n"
     ]
    }
   ],
   "source": [
    "data_provider =  IMERGDataModule(\n",
    "        forecast_steps = 12,\n",
    "        history_steps = 8,\n",
    "        imerg_filename = h5_dataset_location,\n",
    "        ir_filename = ir_h5_dataset_location,\n",
    "        batch_size = 32,\n",
    "        image_shape = (360, 516),\n",
    "        normalize_data=False,\n",
    "        dataset = dataset_type)\n",
    "\n",
    "# for now we are treating the test dataloader as the main one since we are only interested in predicting for individual events\n",
    "data_loader = data_provider.test_dataloader()"
   ]
  },
  {
   "cell_type": "markdown",
   "metadata": {},
   "source": [
    "## Initialize config files for individual models and predict\n",
    "\n",
    "For producing teh nowcasts using each of the models, the following parameters need to be initialized\n",
    "\n",
    "1. model_type: name of the model ('convlstm', 'linda', 'steps', 'lagrangian', 'naive')\n",
    "2. model_config_location: location where the python file with model specific parameters can be found. These have already been populated in the `configs/wa_imerg/` directory.\n",
    "3. model_save_location: if the model requires a saved object (for instance neural network weights), this parameter points to that location.\n",
    "4. use_gpu: flag for whether the model should use a GPU. note that this is only applicable for neural network models and the node which runs this notebook must contain a GPU.\n"
   ]
  },
  {
   "cell_type": "markdown",
   "metadata": {},
   "source": [
    "### ConvLSTM"
   ]
  },
  {
   "cell_type": "code",
   "execution_count": null,
   "metadata": {},
   "outputs": [],
   "source": [
    "from servir.utils.m_h5py2tif import h5py2tif\n",
    "from servir.core.model_picker import ModelPicker\n",
    "\n",
    "model_type = 'convlstm'\n",
    "model_config_location = 'configs/wa_imerg/ConvLSTM.py'\n",
    "model_save_location = 'temp/imerg_only_mse_params.pth'\n",
    "model_output_location = 'results/'\n",
    "use_gpu = False\n",
    "produce_ensemble_outputs = False\n",
    "convlstm_output = generate_outputs(data_loader, model_type, model_config_location, model_save_location, use_gpu, produce_ensemble_outputs=produce_ensemble_outputs, event_name = event_id, model_output_location=model_output_location)\n",
    "\n",
    "model_picker = ModelPicker(model_type=model_type, \n",
    "                            model_config_location=model_config_location, \n",
    "                            model_save_location=model_save_location,\n",
    "                            use_gpu=use_gpu)\n",
    "model_picker.load_data('../data/events/'+str(event_id)+'.h5')\n",
    "\n",
    "model_picker.load_model(get_ensemble=False)\n",
    "\n",
    "# predictions = model_picker.predict()\n",
    "\n",
    "model_picker.save_output(str(event_id)+'_outputs.h5', convlstm_output, num_predictions=len(convlstm_output)\n",
    "h5py2tif(h5_fname=str(event_id)+'_outputs.h5', \n",
    "         meta_fname = '/vol_efthymios/NFS07/en279/SERVIR/TITO_test3/ML/nowcasting/data/events/1/metadata.json', \n",
    "         tif_directory = '/vol_efthymios/NFS07/en279/SERVIR/TITO_test3/ML/nowcasting/data/events/1/predictions/',\n",
    "         num_predictions=len(convlstm_output))\n"
   ]
  },
  {
   "cell_type": "markdown",
   "metadata": {},
   "source": [
    "### STEPS"
   ]
  },
  {
   "cell_type": "code",
   "execution_count": null,
   "metadata": {},
   "outputs": [],
   "source": [
    "from servir.utils.m_h5py2tif import h5py2tif\n",
    "from servir.core.model_picker import ModelPicker\n",
    "\n",
    "model_type = 'steps'\n",
    "model_config_location = 'configs/wa_imerg/PySTEPS.py'\n",
    "model_save_location = ''\n",
    "use_gpu = False\n",
    "produce_ensemble_outputs = False\n",
    "model_output_location = 'results/'\n",
    "steps_output = generate_outputs(data_loader, model_type, model_config_location, model_save_location, use_gpu, produce_ensemble_outputs=produce_ensemble_outputs, event_name = event_id,model_output_location = model_output_location)\n",
    "# tif file per prediction\n",
    "\n",
    "model_picker = ModelPicker(model_type=model_type, \n",
    "                            model_config_location=model_config_location, \n",
    "                            model_save_location=model_save_location,\n",
    "                            use_gpu=use_gpu)\n",
    "model_picker.load_data('../data/events/'+str(event_id)+'.h5')\n",
    "\n",
    "model_picker.load_model(get_ensemble=False)\n",
    "\n",
    "# predictions = model_picker.predict()\n",
    "\n",
    "model_picker.save_output(str(event_id)+'_outputs.h5', steps_output, num_predictions=len(steps_output))\n",
    "h5py2tif(h5_fname=str(event_id)+'_outputs.h5', \n",
    "         meta_fname = '/vol_efthymios/NFS07/en279/SERVIR/TITO_test3/ML/nowcasting/data/events/1/metadata.json', \n",
    "         tif_directory = '/vol_efthymios/NFS07/en279/SERVIR/TITO_test3/ML/nowcasting/data/events/1/predictions/',\n",
    "         num_predictions=len(steps_output))"
   ]
  },
  {
   "cell_type": "markdown",
   "metadata": {},
   "source": [
    "### Lagrangian Persistence"
   ]
  },
  {
   "cell_type": "code",
   "execution_count": 15,
   "metadata": {},
   "outputs": [
    {
     "name": "stdout",
     "output_type": "stream",
     "text": [
      "loading config from configs/wa_imerg/lagrangian_persistence.py ...\n",
      "(12, 360, 518)\n",
      "(12, 360, 518)\n"
     ]
    },
    {
     "ename": "AxisError",
     "evalue": "axis 2 is out of bounds for array of dimension 2",
     "output_type": "error",
     "traceback": [
      "\u001b[31m---------------------------------------------------------------------------\u001b[39m",
      "\u001b[31mAxisError\u001b[39m                                 Traceback (most recent call last)",
      "\u001b[36mCell\u001b[39m\u001b[36m \u001b[39m\u001b[32mIn[15]\u001b[39m\u001b[32m, line 26\u001b[39m\n\u001b[32m     23\u001b[39m model_picker.save_output(\u001b[38;5;28mstr\u001b[39m(event_id)+\u001b[33m'\u001b[39m\u001b[33m_outputs.h5\u001b[39m\u001b[33m'\u001b[39m, lagrangian_output, num_predictions=\u001b[38;5;28mlen\u001b[39m(lagrangian_output))\n\u001b[32m     25\u001b[39m \u001b[38;5;28mprint\u001b[39m(lagrangian_output.shape)\n\u001b[32m---> \u001b[39m\u001b[32m26\u001b[39m \u001b[43mh5py2tif\u001b[49m\u001b[43m(\u001b[49m\u001b[43mh5_fname\u001b[49m\u001b[43m=\u001b[49m\u001b[38;5;28;43mstr\u001b[39;49m\u001b[43m(\u001b[49m\u001b[43mevent_id\u001b[49m\u001b[43m)\u001b[49m\u001b[43m+\u001b[49m\u001b[33;43m'\u001b[39;49m\u001b[33;43m_outputs.h5\u001b[39;49m\u001b[33;43m'\u001b[39;49m\u001b[43m,\u001b[49m\u001b[43m \u001b[49m\n\u001b[32m     27\u001b[39m \u001b[43m         \u001b[49m\u001b[43mmeta_fname\u001b[49m\u001b[43m \u001b[49m\u001b[43m=\u001b[49m\u001b[43m \u001b[49m\u001b[33;43m'\u001b[39;49m\u001b[33;43m/vol_efthymios/NFS07/en279/SERVIR/TITO_test3/ML/nowcasting/data/events/1/metadata.json\u001b[39;49m\u001b[33;43m'\u001b[39;49m\u001b[43m,\u001b[49m\u001b[43m \u001b[49m\n\u001b[32m     28\u001b[39m \u001b[43m         \u001b[49m\u001b[43mtif_directory\u001b[49m\u001b[43m \u001b[49m\u001b[43m=\u001b[49m\u001b[43m \u001b[49m\u001b[33;43m'\u001b[39;49m\u001b[33;43m/vol_efthymios/NFS07/en279/SERVIR/TITO_test3/ML/nowcasting/data/events/1/predictions/\u001b[39;49m\u001b[33;43m'\u001b[39;49m\u001b[43m,\u001b[49m\n\u001b[32m     29\u001b[39m \u001b[43m         \u001b[49m\u001b[43mnum_predictions\u001b[49m\u001b[43m=\u001b[49m\u001b[38;5;28;43mlen\u001b[39;49m\u001b[43m(\u001b[49m\u001b[43mlagrangian_output\u001b[49m\u001b[43m)\u001b[49m\u001b[43m)\u001b[49m\n",
      "\u001b[36mFile \u001b[39m\u001b[32m/vol_efthymios/NFS07/en279/SERVIR/TITO_test3/ML/nowcasting/servir/utils/m_h5py2tif.py:63\u001b[39m, in \u001b[36mh5py2tif\u001b[39m\u001b[34m(h5_fname, meta_fname, tif_directory, num_predictions)\u001b[39m\n\u001b[32m     60\u001b[39m     output_dts = hf[\u001b[38;5;28mstr\u001b[39m(index) + \u001b[33m'\u001b[39m\u001b[33mtimestamps\u001b[39m\u001b[33m'\u001b[39m][:]\n\u001b[32m     61\u001b[39m output_dts = np.array([datetime.datetime.strptime(x.decode(\u001b[33m'\u001b[39m\u001b[33mutf-8\u001b[39m\u001b[33m'\u001b[39m), \u001b[33m'\u001b[39m\u001b[33m%\u001b[39m\u001b[33mY-\u001b[39m\u001b[33m%\u001b[39m\u001b[33mm-\u001b[39m\u001b[38;5;132;01m%d\u001b[39;00m\u001b[33m \u001b[39m\u001b[33m%\u001b[39m\u001b[33mH:\u001b[39m\u001b[33m%\u001b[39m\u001b[33mM:\u001b[39m\u001b[33m%\u001b[39m\u001b[33mS\u001b[39m\u001b[33m'\u001b[39m) \u001b[38;5;28;01mfor\u001b[39;00m x \u001b[38;5;129;01min\u001b[39;00m output_dts])\n\u001b[32m---> \u001b[39m\u001b[32m63\u001b[39m pred_imgs = \u001b[43mnp\u001b[49m\u001b[43m.\u001b[49m\u001b[43minsert\u001b[49m\u001b[43m(\u001b[49m\u001b[43mpred_imgs\u001b[49m\u001b[43m,\u001b[49m\u001b[43m \u001b[49m\u001b[32;43m0\u001b[39;49m\u001b[43m,\u001b[49m\u001b[43m \u001b[49m\u001b[32;43m0\u001b[39;49m\u001b[43m,\u001b[49m\u001b[43m \u001b[49m\u001b[43maxis\u001b[49m\u001b[43m=\u001b[49m\u001b[32;43m2\u001b[39;49m\u001b[43m)\u001b[49m\n\u001b[32m     64\u001b[39m pred_imgs = np.insert(pred_imgs, -\u001b[32m1\u001b[39m, \u001b[32m0\u001b[39m, axis=\u001b[32m2\u001b[39m)\n\u001b[32m     66\u001b[39m os.makedirs(tif_directory + \u001b[38;5;28mstr\u001b[39m(index)+\u001b[33m'\u001b[39m\u001b[33m/\u001b[39m\u001b[33m'\u001b[39m, exist_ok=\u001b[38;5;28;01mTrue\u001b[39;00m)\n",
      "\u001b[36mFile \u001b[39m\u001b[32m~/miniconda3/envs/tito_env/lib/python3.12/site-packages/numpy/lib/function_base.py:5475\u001b[39m, in \u001b[36minsert\u001b[39m\u001b[34m(arr, obj, values, axis)\u001b[39m\n\u001b[32m   5473\u001b[39m     axis = ndim - \u001b[32m1\u001b[39m\n\u001b[32m   5474\u001b[39m \u001b[38;5;28;01melse\u001b[39;00m:\n\u001b[32m-> \u001b[39m\u001b[32m5475\u001b[39m     axis = \u001b[43mnormalize_axis_index\u001b[49m\u001b[43m(\u001b[49m\u001b[43maxis\u001b[49m\u001b[43m,\u001b[49m\u001b[43m \u001b[49m\u001b[43mndim\u001b[49m\u001b[43m)\u001b[49m\n\u001b[32m   5476\u001b[39m slobj = [\u001b[38;5;28mslice\u001b[39m(\u001b[38;5;28;01mNone\u001b[39;00m)]*ndim\n\u001b[32m   5477\u001b[39m N = arr.shape[axis]\n",
      "\u001b[31mAxisError\u001b[39m: axis 2 is out of bounds for array of dimension 2"
     ]
    }
   ],
   "source": [
    "from servir.utils.m_h5py2tif import h5py2tif\n",
    "from servir.core.model_picker import ModelPicker\n",
    "\n",
    "model_type = 'lagrangian'\n",
    "model_config_location = 'configs/wa_imerg/lagrangian_persistence.py'\n",
    "model_save_location = ''\n",
    "use_gpu = False\n",
    "produce_ensemble_outputs = False\n",
    "model_output_location = 'results/'\n",
    "# lagrangian_output = generate_outputs(data_loader, model_type, model_config_location, model_save_location, use_gpu, produce_ensemble_outputs=produce_ensemble_outputs, event_name = event_id,model_output_location = model_output_location)\n",
    "\n",
    "model_picker = ModelPicker(model_type=model_type, \n",
    "                            model_config_location=model_config_location, \n",
    "                            model_save_location=model_save_location,\n",
    "                            use_gpu=use_gpu)\n",
    "model_picker.load_data('../data/events/'+str(event_id)+'.h5')\n",
    "\n",
    "model_picker.load_model(get_ensemble=False)\n",
    "\n",
    "lagrangian_output = model_picker.predict()\n",
    "\n",
    "# lagrangian_output = lagrangian_output[None, :, :, :]\n",
    "model_picker.save_output(str(event_id)+'_outputs.h5', lagrangian_output, num_predictions=len(lagrangian_output))\n",
    "\n",
    "print(lagrangian_output.shape)\n",
    "h5py2tif(h5_fname=str(event_id)+'_outputs.h5', \n",
    "         meta_fname = '/vol_efthymios/NFS07/en279/SERVIR/TITO_test3/ML/nowcasting/data/events/1/metadata.json', \n",
    "         tif_directory = '/vol_efthymios/NFS07/en279/SERVIR/TITO_test3/ML/nowcasting/data/events/1/predictions/',\n",
    "         num_predictions=len(lagrangian_output))\n",
    "\n"
   ]
  },
  {
   "cell_type": "markdown",
   "metadata": {},
   "source": [
    "### Naive Persistence"
   ]
  },
  {
   "cell_type": "code",
   "execution_count": 4,
   "metadata": {},
   "outputs": [
    {
     "name": "stdout",
     "output_type": "stream",
     "text": [
      "loading config from configs/wa_imerg/naive_persistence.py ...\n"
     ]
    },
    {
     "name": "stderr",
     "output_type": "stream",
     "text": [
      "/volume/NFS/aa3328/miniconda3/envs/tito_env/lib/python3.12/site-packages/torch/utils/data/_utils/collate.py:285: UserWarning: The given NumPy array is not writable, and PyTorch does not support non-writable tensors. This means writing to this tensor will result in undefined behavior. You may want to copy the array to protect its data or make it writable before converting it to a tensor. This type of warning will be suppressed for the rest of this program. (Triggered internally at ../torch/csrc/utils/tensor_numpy.cpp:206.)\n",
      "  return collate([torch.as_tensor(b) for b in batch], collate_fn_map=collate_fn_map)\n",
      "/volume/NFS/aa3328/miniconda3/envs/tito_env/lib/python3.12/site-packages/torch/utils/data/_utils/collate.py:285: UserWarning: The given NumPy array is not writable, and PyTorch does not support non-writable tensors. This means writing to this tensor will result in undefined behavior. You may want to copy the array to protect its data or make it writable before converting it to a tensor. This type of warning will be suppressed for the rest of this program. (Triggered internally at ../torch/csrc/utils/tensor_numpy.cpp:206.)\n",
      "  return collate([torch.as_tensor(b) for b in batch], collate_fn_map=collate_fn_map)\n"
     ]
    },
    {
     "name": "stdout",
     "output_type": "stream",
     "text": [
      "starting predictions for batch 0\n",
      "The shape of the resulting array is:  (12, 360, 516)\n",
      "Advecting the radar rainfall fields took  0.005309343338012695  seconds\n",
      "The shape of the resulting array is:  (12, 360, 516)\n",
      "Advecting the radar rainfall fields took  0.005069732666015625  seconds\n",
      "The shape of the resulting array is:  (12, 360, 516)\n",
      "Advecting the radar rainfall fields took  0.002492189407348633  seconds\n",
      "The shape of the resulting array is:  (12, 360, 516)\n",
      "Advecting the radar rainfall fields took  0.0022089481353759766  seconds\n",
      "The shape of the resulting array is:  (12, 360, 516)\n",
      "Advecting the radar rainfall fields took  0.0021309852600097656  seconds\n",
      "The shape of the resulting array is:  (12, 360, 516)\n",
      "Advecting the radar rainfall fields took  0.002118349075317383  seconds\n",
      "The shape of the resulting array is:  (12, 360, 516)\n",
      "Advecting the radar rainfall fields took  0.0021333694458007812  seconds\n",
      "The shape of the resulting array is:  (12, 360, 516)\n",
      "Advecting the radar rainfall fields took  0.0021486282348632812  seconds\n",
      "The shape of the resulting array is:  (12, 360, 516)\n",
      "Advecting the radar rainfall fields took  0.002150297164916992  seconds\n",
      "The shape of the resulting array is:  (12, 360, 516)\n",
      "Advecting the radar rainfall fields took  0.0021500587463378906  seconds\n",
      "The shape of the resulting array is:  (12, 360, 516)\n",
      "Advecting the radar rainfall fields took  0.002197742462158203  seconds\n",
      "The shape of the resulting array is:  (12, 360, 516)\n",
      "Advecting the radar rainfall fields took  0.002176523208618164  seconds\n",
      "The shape of the resulting array is:  (12, 360, 516)\n",
      "Advecting the radar rainfall fields took  0.002118349075317383  seconds\n",
      "The shape of the resulting array is:  (12, 360, 516)\n",
      "Advecting the radar rainfall fields took  0.0021266937255859375  seconds\n",
      "The shape of the resulting array is:  (12, 360, 516)\n",
      "Advecting the radar rainfall fields took  0.002138376235961914  seconds\n",
      "The shape of the resulting array is:  (12, 360, 516)\n",
      "Advecting the radar rainfall fields took  0.0021371841430664062  seconds\n",
      "The shape of the resulting array is:  (12, 360, 516)\n",
      "Advecting the radar rainfall fields took  0.002101421356201172  seconds\n",
      "The shape of the resulting array is:  (12, 360, 516)\n",
      "Advecting the radar rainfall fields took  0.002118349075317383  seconds\n",
      "The shape of the resulting array is:  (12, 360, 516)\n",
      "Advecting the radar rainfall fields took  0.002098560333251953  seconds\n",
      "The shape of the resulting array is:  (12, 360, 516)\n",
      "Advecting the radar rainfall fields took  0.002151012420654297  seconds\n",
      "The shape of the resulting array is:  (12, 360, 516)\n",
      "Advecting the radar rainfall fields took  0.002123117446899414  seconds\n",
      "The shape of the resulting array is:  (12, 360, 516)\n",
      "Advecting the radar rainfall fields took  0.0025315284729003906  seconds\n",
      "The shape of the resulting array is:  (12, 360, 516)\n",
      "Advecting the radar rainfall fields took  0.002162456512451172  seconds\n",
      "The shape of the resulting array is:  (12, 360, 516)\n",
      "Advecting the radar rainfall fields took  0.0021550655364990234  seconds\n",
      "The shape of the resulting array is:  (12, 360, 516)\n",
      "Advecting the radar rainfall fields took  0.002469778060913086  seconds\n",
      "The shape of the resulting array is:  (12, 360, 516)\n",
      "Advecting the radar rainfall fields took  0.0021605491638183594  seconds\n",
      "The shape of the resulting array is:  (12, 360, 516)\n",
      "Advecting the radar rainfall fields took  0.002117156982421875  seconds\n",
      "The shape of the resulting array is:  (12, 360, 516)\n",
      "Advecting the radar rainfall fields took  0.0021092891693115234  seconds\n",
      "The shape of the resulting array is:  (12, 360, 516)\n",
      "Advecting the radar rainfall fields took  0.0021021366119384766  seconds\n",
      "The shape of the resulting array is:  (12, 360, 516)\n",
      "Advecting the radar rainfall fields took  0.002145528793334961  seconds\n",
      "The shape of the resulting array is:  (12, 360, 516)\n",
      "Advecting the radar rainfall fields took  0.0024805068969726562  seconds\n",
      "The shape of the resulting array is:  (12, 360, 516)\n",
      "Advecting the radar rainfall fields took  0.002138853073120117  seconds\n",
      "starting predictions for batch 1\n",
      "The shape of the resulting array is:  (12, 360, 516)\n",
      "Advecting the radar rainfall fields took  0.002095460891723633  seconds\n",
      "The shape of the resulting array is:  (12, 360, 516)\n",
      "Advecting the radar rainfall fields took  0.0021181106567382812  seconds\n",
      "The shape of the resulting array is:  (12, 360, 516)\n",
      "Advecting the radar rainfall fields took  0.0024411678314208984  seconds\n",
      "The shape of the resulting array is:  (12, 360, 516)\n",
      "Advecting the radar rainfall fields took  0.0021657943725585938  seconds\n",
      "The shape of the resulting array is:  (12, 360, 516)\n",
      "Advecting the radar rainfall fields took  0.0021505355834960938  seconds\n",
      "The shape of the resulting array is:  (12, 360, 516)\n",
      "Advecting the radar rainfall fields took  0.0021288394927978516  seconds\n",
      "The shape of the resulting array is:  (12, 360, 516)\n",
      "Advecting the radar rainfall fields took  0.0021135807037353516  seconds\n",
      "The shape of the resulting array is:  (12, 360, 516)\n",
      "Advecting the radar rainfall fields took  0.0021753311157226562  seconds\n",
      "The shape of the resulting array is:  (12, 360, 516)\n",
      "Advecting the radar rainfall fields took  0.0021300315856933594  seconds\n",
      "The shape of the resulting array is:  (12, 360, 516)\n",
      "Advecting the radar rainfall fields took  0.0022020339965820312  seconds\n",
      "The shape of the resulting array is:  (12, 360, 516)\n",
      "Advecting the radar rainfall fields took  0.0024695396423339844  seconds\n",
      "The shape of the resulting array is:  (12, 360, 516)\n",
      "Advecting the radar rainfall fields took  0.0021178722381591797  seconds\n",
      "The shape of the resulting array is:  (12, 360, 516)\n",
      "Advecting the radar rainfall fields took  0.002105712890625  seconds\n",
      "The shape of the resulting array is:  (12, 360, 516)\n",
      "Advecting the radar rainfall fields took  0.002110004425048828  seconds\n",
      "The shape of the resulting array is:  (12, 360, 516)\n",
      "Advecting the radar rainfall fields took  0.0021119117736816406  seconds\n",
      "The shape of the resulting array is:  (12, 360, 516)\n",
      "Advecting the radar rainfall fields took  0.0021491050720214844  seconds\n",
      "The shape of the resulting array is:  (12, 360, 516)\n",
      "Advecting the radar rainfall fields took  0.002151966094970703  seconds\n",
      "The shape of the resulting array is:  (12, 360, 516)\n",
      "Advecting the radar rainfall fields took  0.002468585968017578  seconds\n",
      "The shape of the resulting array is:  (12, 360, 516)\n",
      "Advecting the radar rainfall fields took  0.002140045166015625  seconds\n",
      "The shape of the resulting array is:  (12, 360, 516)\n",
      "Advecting the radar rainfall fields took  0.0024824142456054688  seconds\n",
      "The shape of the resulting array is:  (12, 360, 516)\n",
      "Advecting the radar rainfall fields took  0.0021467208862304688  seconds\n",
      "The shape of the resulting array is:  (12, 360, 516)\n",
      "Advecting the radar rainfall fields took  0.0020513534545898438  seconds\n",
      "The shape of the resulting array is:  (12, 360, 516)\n",
      "Advecting the radar rainfall fields took  0.0020999908447265625  seconds\n",
      "The shape of the resulting array is:  (12, 360, 516)\n",
      "Advecting the radar rainfall fields took  0.00217437744140625  seconds\n",
      "The shape of the resulting array is:  (12, 360, 516)\n",
      "Advecting the radar rainfall fields took  0.0027675628662109375  seconds\n",
      "The shape of the resulting array is:  (12, 360, 516)\n",
      "Advecting the radar rainfall fields took  0.002501249313354492  seconds\n",
      "The shape of the resulting array is:  (12, 360, 516)\n",
      "Advecting the radar rainfall fields took  0.002130746841430664  seconds\n",
      "The shape of the resulting array is:  (12, 360, 516)\n",
      "Advecting the radar rainfall fields took  0.0025186538696289062  seconds\n",
      "The shape of the resulting array is:  (12, 360, 516)\n",
      "Advecting the radar rainfall fields took  0.002109527587890625  seconds\n",
      "The shape of the resulting array is:  (12, 360, 516)\n",
      "Advecting the radar rainfall fields took  0.0027434825897216797  seconds\n",
      "The shape of the resulting array is:  (12, 360, 516)\n",
      "Advecting the radar rainfall fields took  0.0021522045135498047  seconds\n",
      "The shape of the resulting array is:  (12, 360, 516)\n",
      "Advecting the radar rainfall fields took  0.0021381378173828125  seconds\n",
      "starting predictions for batch 2\n",
      "The shape of the resulting array is:  (12, 360, 516)\n",
      "Advecting the radar rainfall fields took  0.002105236053466797  seconds\n",
      "The shape of the resulting array is:  (12, 360, 516)\n",
      "Advecting the radar rainfall fields took  0.002111673355102539  seconds\n",
      "The shape of the resulting array is:  (12, 360, 516)\n",
      "Advecting the radar rainfall fields took  0.0021135807037353516  seconds\n",
      "The shape of the resulting array is:  (12, 360, 516)\n",
      "Advecting the radar rainfall fields took  0.0020987987518310547  seconds\n",
      "The shape of the resulting array is:  (12, 360, 516)\n",
      "Advecting the radar rainfall fields took  0.0020804405212402344  seconds\n",
      "The shape of the resulting array is:  (12, 360, 516)\n",
      "Advecting the radar rainfall fields took  0.0029251575469970703  seconds\n",
      "The shape of the resulting array is:  (12, 360, 516)\n",
      "Advecting the radar rainfall fields took  0.002416849136352539  seconds\n",
      "The shape of the resulting array is:  (12, 360, 516)\n",
      "Advecting the radar rainfall fields took  0.002100706100463867  seconds\n",
      "The shape of the resulting array is:  (12, 360, 516)\n",
      "Advecting the radar rainfall fields took  0.002074718475341797  seconds\n",
      "The shape of the resulting array is:  (12, 360, 516)\n",
      "Advecting the radar rainfall fields took  0.0020825862884521484  seconds\n",
      "The shape of the resulting array is:  (12, 360, 516)\n",
      "Advecting the radar rainfall fields took  0.002076387405395508  seconds\n",
      "The shape of the resulting array is:  (12, 360, 516)\n",
      "Advecting the radar rainfall fields took  0.002085447311401367  seconds\n",
      "The shape of the resulting array is:  (12, 360, 516)\n",
      "Advecting the radar rainfall fields took  0.002405881881713867  seconds\n",
      "The shape of the resulting array is:  (12, 360, 516)\n",
      "Advecting the radar rainfall fields took  0.0021119117736816406  seconds\n",
      "loading config from configs/wa_imerg/naive_persistence.py ...\n",
      "(78, 12, 360, 516)\n"
     ]
    },
    {
     "name": "stderr",
     "output_type": "stream",
     "text": [
      "/volume/NFS/aa3328/miniconda3/envs/tito_env/lib/python3.12/site-packages/osgeo/gdal.py:312: FutureWarning: Neither gdal.UseExceptions() nor gdal.DontUseExceptions() has been explicitly called. In GDAL 4.0, exceptions will be enabled by default.\n",
      "  warnings.warn(\n"
     ]
    }
   ],
   "source": [
    "from servir.utils.m_h5py2tif import h5py2tif\n",
    "from servir.core.model_picker import ModelPicker\n",
    "\n",
    "model_type = 'naive'\n",
    "model_config_location = 'configs/wa_imerg/naive_persistence.py'\n",
    "model_save_location = ''\n",
    "use_gpu = False\n",
    "produce_ensemble_outputs = False\n",
    "model_output_location = 'results/'\n",
    "naive_output = generate_outputs(data_loader, model_type, model_config_location, model_save_location, use_gpu, produce_ensemble_outputs=produce_ensemble_outputs, event_name = event_id,model_output_location = model_output_location)\n",
    "\n",
    "model_picker = ModelPicker(model_type=model_type, \n",
    "                            model_config_location=model_config_location, \n",
    "                            model_save_location=model_save_location,\n",
    "                            use_gpu=use_gpu)\n",
    "model_picker.load_data('../data/events/'+str(event_id)+'.h5')\n",
    "\n",
    "model_picker.load_model(get_ensemble=False)\n",
    "\n",
    "# predictions = model_picker.predict()\n",
    "\n",
    "model_picker.save_output(str(event_id)+'_outputs.h5', naive_output, num_predictions=len(naive_output))\n",
    "\n",
    "h5py2tif(h5_fname=str(event_id)+'_outputs.h5', \n",
    "         meta_fname = '/vol_efthymios/NFS07/en279/SERVIR/TITO_test3/ML/nowcasting/data/events/1/metadata.json', \n",
    "         tif_directory = '/vol_efthymios/NFS07/en279/SERVIR/TITO_test3/ML/nowcasting/data/events/1/predictions/',\n",
    "         num_predictions=len(naive_output))"
   ]
  },
  {
   "cell_type": "code",
   "execution_count": null,
   "metadata": {},
   "outputs": [],
   "source": [
    "predictions.shape"
   ]
  },
  {
   "cell_type": "markdown",
   "metadata": {},
   "source": [
    "### LINDA"
   ]
  },
  {
   "cell_type": "code",
   "execution_count": null,
   "metadata": {},
   "outputs": [],
   "source": [
    "model_type = 'linda'\n",
    "model_config_location = 'configs/wa_imerg/LINDA.py'\n",
    "model_save_location = ''\n",
    "use_gpu = False\n",
    "produce_ensemble_outputs = False\n",
    "model_output_location = 'results/'\n",
    "naive_output = generate_outputs(data_loader, model_type, model_config_location, model_save_location, use_gpu, produce_ensemble_outputs=produce_ensemble_outputs, event_name = event_id,model_output_location = model_output_location)\n"
   ]
  }
 ],
 "metadata": {
  "kernelspec": {
   "display_name": "tito_env",
   "language": "python",
   "name": "python3"
  },
  "language_info": {
   "codemirror_mode": {
    "name": "ipython",
    "version": 3
   },
   "file_extension": ".py",
   "mimetype": "text/x-python",
   "name": "python",
   "nbconvert_exporter": "python",
   "pygments_lexer": "ipython3",
   "version": "3.12.7"
  }
 },
 "nbformat": 4,
 "nbformat_minor": 2
}
