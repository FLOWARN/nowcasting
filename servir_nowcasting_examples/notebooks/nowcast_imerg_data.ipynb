{
 "cells": [
  {
   "cell_type": "markdown",
   "metadata": {},
   "source": [
    "# Nowcasting IMERG data\n",
    "\n",
    "This notebook provide instructions on how to nowcast using the data that was previously downloaded. This notebook will cover how to \n",
    "\n",
    "1. Use the dataloader from the h5 files to produce windowed inputs\n",
    "2. Initialize config files for each nowcasting model\n",
    "3. Nowcast the generated inputs and save the outputs in a format ready to be used for downstream tasks\n",
    "\n",
    "Author: Akshay Aravamudan (aaravamudan2014@my.fit.edu)\n",
    "\n",
    "Last Edited: Jan 21, 2025"
   ]
  },
  {
   "cell_type": "markdown",
   "metadata": {},
   "source": [
    "## Imports"
   ]
  },
  {
   "cell_type": "code",
   "execution_count": 1,
   "metadata": {},
   "outputs": [
    {
     "name": "stdout",
     "output_type": "stream",
     "text": [
      "Pysteps configuration file found at: /volume/NFS/aa3328/miniconda3/envs/tito_env/lib/python3.12/site-packages/pysteps/pystepsrc\n",
      "\n"
     ]
    },
    {
     "name": "stderr",
     "output_type": "stream",
     "text": [
      "/volume/NFS/aa3328/miniconda3/envs/tito_env/lib/python3.12/site-packages/tqdm/auto.py:21: TqdmWarning: IProgress not found. Please update jupyter and ipywidgets. See https://ipywidgets.readthedocs.io/en/stable/user_install.html\n",
      "  from .autonotebook import tqdm as notebook_tqdm\n"
     ]
    }
   ],
   "source": [
    "from servir.utils.evaluation import generate_outputs\n",
    "from servir.utils.data_provider import IMERGDataModule\n",
    "\n",
    "\n",
    "# get path of nowcasting folder\n",
    "nowcasting_path = '/vol_efthymios/NFS07/en279/SERVIR/TITO_test3/ML/nowcasting'\n",
    "\n",
    "# create results folder if it does not exist\n",
    "from pathlib import Path\n",
    "results_path = Path(nowcasting_path + '/servir_nowcasting_examples/notebooks/results/')\n",
    "results_path.parent.mkdir(exist_ok=True, parents=True)\n"
   ]
  },
  {
   "cell_type": "markdown",
   "metadata": {},
   "source": [
    "## Initialize parameters"
   ]
  },
  {
   "cell_type": "code",
   "execution_count": 7,
   "metadata": {},
   "outputs": [],
   "source": [
    "# event id for which the data was downloaded\n",
    "event_id = 1\n",
    "\n",
    "# location of the h5 file that was generated after downloading the data\n",
    "h5_dataset_location = nowcasting_path+'/data/events/'+str(event_id)+'.h5'\n",
    "\n",
    "# as of now, we do not have IR data, so we set it None\n",
    "ir_h5_dataset_location = None\n",
    "\n",
    "# this string is used to determine the kind of dataloader we need to use\n",
    "# for processing individual events, we reccommend the user to keep this fixed\n",
    "dataset_type = 'wa'"
   ]
  },
  {
   "cell_type": "markdown",
   "metadata": {},
   "source": [
    "## Initialize the dataloader"
   ]
  },
  {
   "cell_type": "code",
   "execution_count": 8,
   "metadata": {},
   "outputs": [
    {
     "name": "stdout",
     "output_type": "stream",
     "text": [
      "original shape (97, 360, 516)\n",
      "Precipitation Dataset input shape:  (74, 12, 1, 360, 516)\n",
      "Precipitation Dataset output shape:  (74, 12, 1, 360, 516)\n"
     ]
    }
   ],
   "source": [
    "data_provider =  IMERGDataModule(\n",
    "        forecast_steps = 12,\n",
    "        history_steps = 12,\n",
    "        imerg_filename = h5_dataset_location,\n",
    "        ir_filename = ir_h5_dataset_location,\n",
    "        batch_size = 32,\n",
    "        image_shape = (360, 516),\n",
    "        normalize_data=False,\n",
    "        dataset = dataset_type)\n",
    "\n",
    "# for now we are treating the test dataloader as the main one since we are only interested in predicting for individual events\n",
    "data_loader = data_provider.test_dataloader()"
   ]
  },
  {
   "cell_type": "markdown",
   "metadata": {},
   "source": [
    "## Initialize config files for individual models and predict\n",
    "\n",
    "For producing teh nowcasts using each of the models, the following parameters need to be initialized\n",
    "\n",
    "1. model_type: name of the model ('convlstm', 'linda', 'steps', 'lagrangian', 'naive')\n",
    "2. model_config_location: location where the python file with model specific parameters can be found. These have already been populated in the `configs/wa_imerg/` directory.\n",
    "3. model_save_location: if the model requires a saved object (for instance neural network weights), this parameter points to that location.\n",
    "4. use_gpu: flag for whether the model should use a GPU. note that this is only applicable for neural network models and the node which runs this notebook must contain a GPU.\n"
   ]
  },
  {
   "cell_type": "markdown",
   "metadata": {},
   "source": [
    "### ConvLSTM"
   ]
  },
  {
   "cell_type": "code",
   "execution_count": 5,
   "metadata": {},
   "outputs": [
    {
     "ename": "NameError",
     "evalue": "name 'convlstm_output' is not defined",
     "output_type": "error",
     "traceback": [
      "\u001b[31m---------------------------------------------------------------------------\u001b[39m",
      "\u001b[31mNameError\u001b[39m                                 Traceback (most recent call last)",
      "\u001b[36mCell\u001b[39m\u001b[36m \u001b[39m\u001b[32mIn[5]\u001b[39m\u001b[32m, line 26\u001b[39m\n\u001b[32m      1\u001b[39m \u001b[38;5;28;01mfrom\u001b[39;00m\u001b[38;5;250m \u001b[39m\u001b[34;01mservir\u001b[39;00m\u001b[34;01m.\u001b[39;00m\u001b[34;01mutils\u001b[39;00m\u001b[34;01m.\u001b[39;00m\u001b[34;01mm_h5py2tif\u001b[39;00m\u001b[38;5;250m \u001b[39m\u001b[38;5;28;01mimport\u001b[39;00m h5py2tif\n\u001b[32m      2\u001b[39m \u001b[38;5;66;03m# from servir.core.model_picker import ModelPicker\u001b[39;00m\n\u001b[32m      3\u001b[39m \n\u001b[32m      4\u001b[39m \u001b[38;5;66;03m# model_type = 'convlstm'\u001b[39;00m\n\u001b[32m   (...)\u001b[39m\u001b[32m     21\u001b[39m \n\u001b[32m     22\u001b[39m \u001b[38;5;66;03m# model_picker.save_output(str(event_id)+'_outputs.h5', convlstm_output, num_predictions=len(convlstm_output))\u001b[39;00m\n\u001b[32m     23\u001b[39m h5py2tif(h5_fname=\u001b[38;5;28mstr\u001b[39m(event_id)+\u001b[33m'\u001b[39m\u001b[33m_outputs.h5\u001b[39m\u001b[33m'\u001b[39m, \n\u001b[32m     24\u001b[39m          meta_fname = \u001b[33m'\u001b[39m\u001b[33m/vol_efthymios/NFS07/en279/SERVIR/TITO_test3/ML/nowcasting/data/events/1/metadata.json\u001b[39m\u001b[33m'\u001b[39m, \n\u001b[32m     25\u001b[39m          tif_directory = \u001b[33m'\u001b[39m\u001b[33m/vol_efthymios/NFS07/en279/SERVIR/TITO_test3/ML/nowcasting/data/events/1/predictions/\u001b[39m\u001b[33m'\u001b[39m,\n\u001b[32m---> \u001b[39m\u001b[32m26\u001b[39m          num_predictions=\u001b[38;5;28mlen\u001b[39m(\u001b[43mconvlstm_output\u001b[49m),\n\u001b[32m     27\u001b[39m          method = \u001b[33m'\u001b[39m\u001b[33mconvlstm\u001b[39m\u001b[33m'\u001b[39m)\n",
      "\u001b[31mNameError\u001b[39m: name 'convlstm_output' is not defined"
     ]
    }
   ],
   "source": [
    "from servir.utils.m_h5py2tif import h5py2tif\n",
    "from servir.core.model_picker import ModelPicker\n",
    "\n",
    "model_type = 'convlstm'\n",
    "model_config_location = nowcasting_path+'/configs/wa_imerg/ConvLSTM.py'\n",
    "model_save_location = nowcasting_path+'/temp/imerg_only_mse_params.pth'\n",
    "model_output_location = results_path\n",
    "use_gpu = False\n",
    "produce_ensemble_outputs = False\n",
    "convlstm_output = generate_outputs(data_loader, model_type, model_config_location, model_save_location, use_gpu, produce_ensemble_outputs=produce_ensemble_outputs, event_name = event_id, model_output_location=model_output_location)\n",
    "\n",
    "model_picker = ModelPicker(model_type=model_type, \n",
    "                            model_config_location=model_config_location, \n",
    "                            model_save_location=model_save_location,\n",
    "                            use_gpu=use_gpu)\n",
    "model_picker.load_data(nowcasting_path+'data/events/'+str(event_id)+'.h5')\n",
    "\n",
    "model_picker.load_model(get_ensemble=False)\n",
    "\n",
    "# predictions = model_picker.predict()\n",
    "\n",
    "model_picker.save_output(str(event_id)+'_convlstm_outputs.h5', convlstm_output, num_predictions=len(convlstm_output))\n",
    "h5py2tif(h5_fname=str(event_id)+'_convlstm_outputs.h5', \n",
    "         meta_fname = nowcasting_path+'/data/events/'+str(event_id)+'/metadata.json', \n",
    "         tif_directory = nowcasting_path+'/data/events/'+str(event_id)+'/predictions/',\n",
    "         num_predictions=len(convlstm_output),\n",
    "         method = 'convlstm')\n"
   ]
  },
  {
   "cell_type": "markdown",
   "metadata": {},
   "source": [
    "### STEPS"
   ]
  },
  {
   "cell_type": "code",
   "execution_count": 7,
   "metadata": {},
   "outputs": [],
   "source": [
    "from servir.utils.m_h5py2tif import h5py2tif\n",
    "from servir.core.model_picker import ModelPicker\n",
    "\n",
    "model_type = 'steps'\n",
    "model_config_location = nowcasting_path+'/configs/wa_imerg/PySTEPS.py'\n",
    "model_save_location = ''\n",
    "use_gpu = False\n",
    "produce_ensemble_outputs = False\n",
    "model_output_location = results_path\n",
    "steps_output = generate_outputs(data_loader, model_type, model_config_location, model_save_location, use_gpu, produce_ensemble_outputs=produce_ensemble_outputs, event_name = event_id,model_output_location = model_output_location)\n",
    "# tif file per prediction\n",
    "\n",
    "model_picker = ModelPicker(model_type=model_type, \n",
    "                            model_config_location=model_config_location, \n",
    "                            model_save_location=model_save_location,\n",
    "                            use_gpu=use_gpu)\n",
    "model_picker.load_data(nowcasting_path+'/data/events/'+str(event_id)+'.h5')\n",
    "\n",
    "model_picker.load_model(get_ensemble=False)\n",
    "\n",
    "# predictions = model_picker.predict()\n",
    "\n",
    "model_picker.save_output(str(event_id)+'_steps_outputs.h5', steps_output, num_predictions=len(steps_output))\n",
    "h5py2tif(h5_fname=str(event_id)+'_steps_outputs.h5', \n",
    "         meta_fname = nowcasting_path+'/data/events/'+str(event_id)+'/metadata.json', \n",
    "         tif_directory = nowcasting_path+'/data/events/'+str(event_id)+'/predictions/',\n",
    "         num_predictions=len(steps_output),\n",
    "         method = 'steps')"
   ]
  },
  {
   "cell_type": "markdown",
   "metadata": {},
   "source": [
    "### Lagrangian Persistence"
   ]
  },
  {
   "cell_type": "code",
   "execution_count": 5,
   "metadata": {},
   "outputs": [
    {
     "name": "stdout",
     "output_type": "stream",
     "text": [
      "loading config from ../configs/wa_imerg/lagrangian_persistence.py ...\n"
     ]
    },
    {
     "name": "stderr",
     "output_type": "stream",
     "text": [
      "/volume/NFS/aa3328/miniconda3/envs/tito_env/lib/python3.12/site-packages/torch/utils/data/_utils/collate.py:285: UserWarning: The given NumPy array is not writable, and PyTorch does not support non-writable tensors. This means writing to this tensor will result in undefined behavior. You may want to copy the array to protect its data or make it writable before converting it to a tensor. This type of warning will be suppressed for the rest of this program. (Triggered internally at ../torch/csrc/utils/tensor_numpy.cpp:206.)\n",
      "  return collate([torch.as_tensor(b) for b in batch], collate_fn_map=collate_fn_map)\n",
      "/volume/NFS/aa3328/miniconda3/envs/tito_env/lib/python3.12/site-packages/torch/utils/data/_utils/collate.py:285: UserWarning: The given NumPy array is not writable, and PyTorch does not support non-writable tensors. This means writing to this tensor will result in undefined behavior. You may want to copy the array to protect its data or make it writable before converting it to a tensor. This type of warning will be suppressed for the rest of this program. (Triggered internally at ../torch/csrc/utils/tensor_numpy.cpp:206.)\n",
      "  return collate([torch.as_tensor(b) for b in batch], collate_fn_map=collate_fn_map)\n"
     ]
    },
    {
     "name": "stdout",
     "output_type": "stream",
     "text": [
      "starting predictions for batch 0\n",
      "starting predictions for batch 1\n",
      "starting predictions for batch 2\n",
      "loading config from ../configs/wa_imerg/lagrangian_persistence.py ...\n",
      "(74, 12, 360, 516)\n"
     ]
    }
   ],
   "source": [
    "from servir.utils.m_h5py2tif import h5py2tif\n",
    "from servir.core.model_picker import ModelPicker\n",
    "\n",
    "model_type = 'lagrangian'\n",
    "model_config_location = nowcasting_path+'configs/wa_imerg/lagrangian_persistence.py'\n",
    "model_save_location = ''\n",
    "use_gpu = False\n",
    "produce_ensemble_outputs = False\n",
    "model_output_location = results_path\n",
    "lagrangian_output = generate_outputs(data_loader, model_type, model_config_location, model_save_location, use_gpu, produce_ensemble_outputs=produce_ensemble_outputs, event_name = event_id,model_output_location = model_output_location)\n",
    "\n",
    "model_picker = ModelPicker(model_type=model_type, \n",
    "                            model_config_location=model_config_location, \n",
    "                            model_save_location=model_save_location,\n",
    "                            use_gpu=use_gpu)\n",
    "model_picker.load_data(nowcasting_path+'/data/events/'+str(event_id)+'.h5')\n",
    "\n",
    "model_picker.load_model(get_ensemble=False)\n",
    "\n",
    "model_picker.save_output(str(event_id)+'_lagrangian_outputs.h5', lagrangian_output, num_predictions=len(lagrangian_output))\n",
    "\n",
    "h5py2tif(h5_fname=str(event_id)+'_lagrangian_outputs.h5', \n",
    "         meta_fname = nowcasting_path+'/data/events/'+str(event_id)+'/metadata.json', \n",
    "         tif_directory = nowcasting_path+'data/events/'+str(event_id)+'/predictions/',\n",
    "         num_predictions=len(lagrangian_output),\n",
    "         method='lagrangian')\n",
    "\n"
   ]
  },
  {
   "cell_type": "markdown",
   "metadata": {},
   "source": [
    "### Naive Persistence"
   ]
  },
  {
   "cell_type": "code",
   "execution_count": 9,
   "metadata": {},
   "outputs": [
    {
     "name": "stdout",
     "output_type": "stream",
     "text": [
      "loading config from ../configs/wa_imerg/naive_persistence.py ...\n"
     ]
    },
    {
     "name": "stderr",
     "output_type": "stream",
     "text": [
      "/volume/NFS/aa3328/miniconda3/envs/tito_env/lib/python3.12/site-packages/torch/utils/data/_utils/collate.py:285: UserWarning: The given NumPy array is not writable, and PyTorch does not support non-writable tensors. This means writing to this tensor will result in undefined behavior. You may want to copy the array to protect its data or make it writable before converting it to a tensor. This type of warning will be suppressed for the rest of this program. (Triggered internally at ../torch/csrc/utils/tensor_numpy.cpp:206.)\n",
      "  return collate([torch.as_tensor(b) for b in batch], collate_fn_map=collate_fn_map)\n",
      "/volume/NFS/aa3328/miniconda3/envs/tito_env/lib/python3.12/site-packages/torch/utils/data/_utils/collate.py:285: UserWarning: The given NumPy array is not writable, and PyTorch does not support non-writable tensors. This means writing to this tensor will result in undefined behavior. You may want to copy the array to protect its data or make it writable before converting it to a tensor. This type of warning will be suppressed for the rest of this program. (Triggered internally at ../torch/csrc/utils/tensor_numpy.cpp:206.)\n",
      "  return collate([torch.as_tensor(b) for b in batch], collate_fn_map=collate_fn_map)\n"
     ]
    },
    {
     "name": "stdout",
     "output_type": "stream",
     "text": [
      "starting predictions for batch 0\n",
      "The shape of the resulting array is:  (12, 360, 516)\n",
      "Advecting the radar rainfall fields took  0.016494035720825195  seconds\n",
      "The shape of the resulting array is:  (12, 360, 516)\n",
      "Advecting the radar rainfall fields took  0.0074138641357421875  seconds\n",
      "The shape of the resulting array is:  (12, 360, 516)\n",
      "Advecting the radar rainfall fields took  0.002485513687133789  seconds\n",
      "The shape of the resulting array is:  (12, 360, 516)\n",
      "Advecting the radar rainfall fields took  0.002156972885131836  seconds\n",
      "The shape of the resulting array is:  (12, 360, 516)\n",
      "Advecting the radar rainfall fields took  0.002777576446533203  seconds\n",
      "The shape of the resulting array is:  (12, 360, 516)\n",
      "Advecting the radar rainfall fields took  0.0025911331176757812  seconds\n",
      "The shape of the resulting array is:  (12, 360, 516)\n",
      "Advecting the radar rainfall fields took  0.0027468204498291016  seconds\n",
      "The shape of the resulting array is:  (12, 360, 516)\n",
      "Advecting the radar rainfall fields took  0.002171754837036133  seconds\n",
      "The shape of the resulting array is:  (12, 360, 516)\n",
      "Advecting the radar rainfall fields took  0.0021457672119140625  seconds\n",
      "The shape of the resulting array is:  (12, 360, 516)\n",
      "Advecting the radar rainfall fields took  0.002135753631591797  seconds\n",
      "The shape of the resulting array is:  (12, 360, 516)\n",
      "Advecting the radar rainfall fields took  0.0026695728302001953  seconds\n",
      "The shape of the resulting array is:  (12, 360, 516)\n",
      "Advecting the radar rainfall fields took  0.0020771026611328125  seconds\n",
      "The shape of the resulting array is:  (12, 360, 516)\n",
      "Advecting the radar rainfall fields took  0.002686738967895508  seconds\n",
      "The shape of the resulting array is:  (12, 360, 516)\n",
      "Advecting the radar rainfall fields took  0.0021228790283203125  seconds\n",
      "The shape of the resulting array is:  (12, 360, 516)\n",
      "Advecting the radar rainfall fields took  0.002132892608642578  seconds\n",
      "The shape of the resulting array is:  (12, 360, 516)\n",
      "Advecting the radar rainfall fields took  0.002421140670776367  seconds\n",
      "The shape of the resulting array is:  (12, 360, 516)\n",
      "Advecting the radar rainfall fields took  0.002520322799682617  seconds\n",
      "The shape of the resulting array is:  (12, 360, 516)\n",
      "Advecting the radar rainfall fields took  0.0024781227111816406  seconds\n",
      "The shape of the resulting array is:  (12, 360, 516)\n",
      "Advecting the radar rainfall fields took  0.002412080764770508  seconds\n",
      "The shape of the resulting array is:  (12, 360, 516)\n",
      "Advecting the radar rainfall fields took  0.0036118030548095703  seconds\n",
      "The shape of the resulting array is:  (12, 360, 516)\n",
      "Advecting the radar rainfall fields took  0.002219676971435547  seconds\n",
      "The shape of the resulting array is:  (12, 360, 516)\n",
      "Advecting the radar rainfall fields took  0.002150297164916992  seconds\n",
      "The shape of the resulting array is:  (12, 360, 516)\n",
      "Advecting the radar rainfall fields took  0.0025796890258789062  seconds\n",
      "The shape of the resulting array is:  (12, 360, 516)\n",
      "Advecting the radar rainfall fields took  0.002160787582397461  seconds\n",
      "The shape of the resulting array is:  (12, 360, 516)\n",
      "Advecting the radar rainfall fields took  0.0033998489379882812  seconds\n",
      "The shape of the resulting array is:  (12, 360, 516)\n",
      "Advecting the radar rainfall fields took  0.002523660659790039  seconds\n",
      "The shape of the resulting array is:  (12, 360, 516)\n",
      "Advecting the radar rainfall fields took  0.002239227294921875  seconds\n",
      "The shape of the resulting array is:  (12, 360, 516)\n",
      "Advecting the radar rainfall fields took  0.002244710922241211  seconds\n",
      "The shape of the resulting array is:  (12, 360, 516)\n",
      "Advecting the radar rainfall fields took  0.0021932125091552734  seconds\n",
      "The shape of the resulting array is:  (12, 360, 516)\n",
      "Advecting the radar rainfall fields took  0.0022428035736083984  seconds\n",
      "The shape of the resulting array is:  (12, 360, 516)\n",
      "Advecting the radar rainfall fields took  0.003030061721801758  seconds\n",
      "The shape of the resulting array is:  (12, 360, 516)\n",
      "Advecting the radar rainfall fields took  0.002425670623779297  seconds\n",
      "starting predictions for batch 1\n",
      "The shape of the resulting array is:  (12, 360, 516)\n",
      "Advecting the radar rainfall fields took  0.002460479736328125  seconds\n",
      "The shape of the resulting array is:  (12, 360, 516)\n",
      "Advecting the radar rainfall fields took  0.002833843231201172  seconds\n",
      "The shape of the resulting array is:  (12, 360, 516)\n",
      "Advecting the radar rainfall fields took  0.002204418182373047  seconds\n",
      "The shape of the resulting array is:  (12, 360, 516)\n",
      "Advecting the radar rainfall fields took  0.0022535324096679688  seconds\n",
      "The shape of the resulting array is:  (12, 360, 516)\n",
      "Advecting the radar rainfall fields took  0.0021088123321533203  seconds\n",
      "The shape of the resulting array is:  (12, 360, 516)\n",
      "Advecting the radar rainfall fields took  0.0028090476989746094  seconds\n",
      "The shape of the resulting array is:  (12, 360, 516)\n",
      "Advecting the radar rainfall fields took  0.0025017261505126953  seconds\n",
      "The shape of the resulting array is:  (12, 360, 516)\n",
      "Advecting the radar rainfall fields took  0.0027120113372802734  seconds\n",
      "The shape of the resulting array is:  (12, 360, 516)\n",
      "Advecting the radar rainfall fields took  0.0022165775299072266  seconds\n",
      "The shape of the resulting array is:  (12, 360, 516)\n",
      "Advecting the radar rainfall fields took  0.002171754837036133  seconds\n",
      "The shape of the resulting array is:  (12, 360, 516)\n",
      "Advecting the radar rainfall fields took  0.002239227294921875  seconds\n",
      "The shape of the resulting array is:  (12, 360, 516)\n",
      "Advecting the radar rainfall fields took  0.002598285675048828  seconds\n",
      "The shape of the resulting array is:  (12, 360, 516)\n",
      "Advecting the radar rainfall fields took  0.0032889842987060547  seconds\n",
      "The shape of the resulting array is:  (12, 360, 516)\n",
      "Advecting the radar rainfall fields took  0.0022623538970947266  seconds\n",
      "The shape of the resulting array is:  (12, 360, 516)\n",
      "Advecting the radar rainfall fields took  0.002201557159423828  seconds\n",
      "The shape of the resulting array is:  (12, 360, 516)\n",
      "Advecting the radar rainfall fields took  0.002540111541748047  seconds\n",
      "The shape of the resulting array is:  (12, 360, 516)\n",
      "Advecting the radar rainfall fields took  0.002568483352661133  seconds\n",
      "The shape of the resulting array is:  (12, 360, 516)\n",
      "Advecting the radar rainfall fields took  0.0020987987518310547  seconds\n",
      "The shape of the resulting array is:  (12, 360, 516)\n",
      "Advecting the radar rainfall fields took  0.0025086402893066406  seconds\n",
      "The shape of the resulting array is:  (12, 360, 516)\n",
      "Advecting the radar rainfall fields took  0.0026388168334960938  seconds\n",
      "The shape of the resulting array is:  (12, 360, 516)\n",
      "Advecting the radar rainfall fields took  0.0026268959045410156  seconds\n",
      "The shape of the resulting array is:  (12, 360, 516)\n",
      "Advecting the radar rainfall fields took  0.0024871826171875  seconds\n",
      "The shape of the resulting array is:  (12, 360, 516)\n",
      "Advecting the radar rainfall fields took  0.0022077560424804688  seconds\n",
      "The shape of the resulting array is:  (12, 360, 516)\n",
      "Advecting the radar rainfall fields took  0.0024933815002441406  seconds\n",
      "The shape of the resulting array is:  (12, 360, 516)\n",
      "Advecting the radar rainfall fields took  0.0021996498107910156  seconds\n",
      "The shape of the resulting array is:  (12, 360, 516)\n",
      "Advecting the radar rainfall fields took  0.0025794506072998047  seconds\n",
      "The shape of the resulting array is:  (12, 360, 516)\n",
      "Advecting the radar rainfall fields took  0.002237558364868164  seconds\n",
      "The shape of the resulting array is:  (12, 360, 516)\n",
      "Advecting the radar rainfall fields took  0.0028076171875  seconds\n",
      "The shape of the resulting array is:  (12, 360, 516)\n",
      "Advecting the radar rainfall fields took  0.0035288333892822266  seconds\n",
      "The shape of the resulting array is:  (12, 360, 516)\n",
      "Advecting the radar rainfall fields took  0.0021851062774658203  seconds\n",
      "The shape of the resulting array is:  (12, 360, 516)\n",
      "Advecting the radar rainfall fields took  0.0022330284118652344  seconds\n",
      "The shape of the resulting array is:  (12, 360, 516)\n",
      "Advecting the radar rainfall fields took  0.002191305160522461  seconds\n",
      "starting predictions for batch 2\n",
      "The shape of the resulting array is:  (12, 360, 516)\n",
      "Advecting the radar rainfall fields took  0.002423524856567383  seconds\n",
      "The shape of the resulting array is:  (12, 360, 516)\n",
      "Advecting the radar rainfall fields took  0.0021712779998779297  seconds\n",
      "The shape of the resulting array is:  (12, 360, 516)\n",
      "Advecting the radar rainfall fields took  0.003219127655029297  seconds\n",
      "The shape of the resulting array is:  (12, 360, 516)\n",
      "Advecting the radar rainfall fields took  0.0021648406982421875  seconds\n",
      "The shape of the resulting array is:  (12, 360, 516)\n",
      "Advecting the radar rainfall fields took  0.0025513172149658203  seconds\n",
      "The shape of the resulting array is:  (12, 360, 516)\n",
      "Advecting the radar rainfall fields took  0.002544403076171875  seconds\n",
      "The shape of the resulting array is:  (12, 360, 516)\n",
      "Advecting the radar rainfall fields took  0.002724885940551758  seconds\n",
      "The shape of the resulting array is:  (12, 360, 516)\n",
      "Advecting the radar rainfall fields took  0.0027747154235839844  seconds\n",
      "The shape of the resulting array is:  (12, 360, 516)\n",
      "Advecting the radar rainfall fields took  0.0021491050720214844  seconds\n",
      "The shape of the resulting array is:  (12, 360, 516)\n",
      "Advecting the radar rainfall fields took  0.002210855484008789  seconds\n",
      "loading config from ../configs/wa_imerg/naive_persistence.py ...\n"
     ]
    },
    {
     "name": "stderr",
     "output_type": "stream",
     "text": [
      "/volume/NFS/aa3328/miniconda3/envs/tito_env/lib/python3.12/site-packages/osgeo/gdal.py:312: FutureWarning: Neither gdal.UseExceptions() nor gdal.DontUseExceptions() has been explicitly called. In GDAL 4.0, exceptions will be enabled by default.\n",
      "  warnings.warn(\n"
     ]
    }
   ],
   "source": [
    "from servir.utils.m_h5py2tif import h5py2tif\n",
    "from servir.core.model_picker import ModelPicker\n",
    "\n",
    "\n",
    "model_type = 'naive'\n",
    "model_config_location = nowcasting_path+'/configs/wa_imerg/naive_persistence.py'\n",
    "model_save_location = ''\n",
    "use_gpu = False\n",
    "produce_ensemble_outputs = False\n",
    "model_output_location = results_path\n",
    "\n",
    "\n",
    "naive_output = generate_outputs(data_loader, model_type, model_config_location, model_save_location, use_gpu, produce_ensemble_outputs=produce_ensemble_outputs, event_name = event_id,model_output_location = model_output_location)\n",
    "\n",
    "model_picker = ModelPicker(model_type=model_type, \n",
    "                            model_config_location=model_config_location, \n",
    "                            model_save_location=model_save_location,\n",
    "                            use_gpu=use_gpu)\n",
    "model_picker.load_data(nowcasting_path+'/data/events/'+str(event_id)+'.h5')\n",
    "\n",
    "model_picker.load_model(get_ensemble=False)\n",
    "\n",
    "# predictions = model_picker.predict()\n",
    "\n",
    "model_picker.save_output(str(event_id)+'_naive_outputs.h5', naive_output, num_predictions=len(naive_output))\n",
    "\n",
    "h5py2tif(h5_fname=str(event_id)+'_naive_outputs.h5', \n",
    "         meta_fname = nowcasting_path+'/data/events/'+str(event_id)+'/metadata.json', \n",
    "         tif_directory = nowcasting_path+'/data/events/'+str(event_id)+'/predictions/',\n",
    "         num_predictions=len(naive_output),\n",
    "         method = 'naive')"
   ]
  },
  {
   "cell_type": "markdown",
   "metadata": {},
   "source": [
    "### LINDA"
   ]
  },
  {
   "cell_type": "code",
   "execution_count": null,
   "metadata": {},
   "outputs": [],
   "source": [
    "model_type = 'linda'\n",
    "model_config_location = nowcasting_path+'/configs/wa_imerg/LINDA.py'\n",
    "model_save_location = ''\n",
    "use_gpu = False\n",
    "produce_ensemble_outputs = False\n",
    "model_output_location = 'results/'\n",
    "naive_output = generate_outputs(data_loader, model_type, model_config_location, model_save_location, use_gpu, produce_ensemble_outputs=produce_ensemble_outputs, event_name = event_id,model_output_location = model_output_location)\n",
    "\n",
    "model_picker = ModelPicker(model_type=model_type, \n",
    "                            model_config_location=model_config_location, \n",
    "                            model_save_location=model_save_location,\n",
    "                            use_gpu=use_gpu)\n",
    "model_picker.load_data(nowcasting_path+'/data/events/'+str(event_id)+'.h5')\n",
    "\n",
    "model_picker.load_model(get_ensemble=False)\n",
    "\n",
    "# predictions = model_picker.predict()\n",
    "\n",
    "model_picker.save_output(str(event_id)+'_linda_outputs.h5', naive_output, num_predictions=len(naive_output))\n",
    "\n",
    "h5py2tif(h5_fname=str(event_id)+'_linda_outputs.h5', \n",
    "         meta_fname = nowcasting_path+'/data/events/'+str(event_id)+'/metadata.json', \n",
    "         tif_directory = nowcasting_path+'/data/events/'+str(event_id)+'/predictions/',\n",
    "         num_predictions=len(naive_output),\n",
    "         method = 'linda')\n",
    "\n"
   ]
  }
 ],
 "metadata": {
  "kernelspec": {
   "display_name": "tito_env",
   "language": "python",
   "name": "python3"
  },
  "language_info": {
   "codemirror_mode": {
    "name": "ipython",
    "version": 3
   },
   "file_extension": ".py",
   "mimetype": "text/x-python",
   "name": "python",
   "nbconvert_exporter": "python",
   "pygments_lexer": "ipython3",
   "version": "3.12.7"
  }
 },
 "nbformat": 4,
 "nbformat_minor": 2
}
